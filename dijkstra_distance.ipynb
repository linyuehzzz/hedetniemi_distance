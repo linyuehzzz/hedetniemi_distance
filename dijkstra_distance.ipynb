{
  "nbformat": 4,
  "nbformat_minor": 0,
  "metadata": {
    "colab": {
      "name": "dijkstra_distance.ipynb",
      "provenance": [],
      "collapsed_sections": [],
      "toc_visible": true,
      "authorship_tag": "ABX9TyO4xVMWZNOi1ApVEojUq37Z",
      "include_colab_link": true
    },
    "kernelspec": {
      "name": "python3",
      "display_name": "Python 3"
    }
  },
  "cells": [
    {
      "cell_type": "markdown",
      "metadata": {
        "id": "view-in-github",
        "colab_type": "text"
      },
      "source": [
        "<a href=\"https://colab.research.google.com/github/linyuehzzz/hedetniemi_distance/blob/master/dijkstra_distance.ipynb\" target=\"_parent\"><img src=\"https://colab.research.google.com/assets/colab-badge.svg\" alt=\"Open In Colab\"/></a>"
      ]
    },
    {
      "cell_type": "markdown",
      "metadata": {
        "id": "otXulw59j8pt",
        "colab_type": "text"
      },
      "source": [
        "##**Dijkstra distance**\n",
        "Dijkstra's shortest path algorithm (codes from [Ningchuan Xiao](https://github.com/gisalgs/networks/blob/master/dijkstra.py))   \n",
        "Yue Lin (lin.3326 at osu.edu)  \n",
        "Created: 6/20/2020"
      ]
    },
    {
      "cell_type": "code",
      "metadata": {
        "id": "6Ds-VmGcjkUJ",
        "colab_type": "code",
        "colab": {}
      },
      "source": [
        "from google.colab import drive\n",
        "drive.mount('/content/gdrive')"
      ],
      "execution_count": null,
      "outputs": []
    },
    {
      "cell_type": "markdown",
      "metadata": {
        "colab_type": "text",
        "id": "Rya-4S2c_mPy"
      },
      "source": [
        "#### **Install packages** "
      ]
    },
    {
      "cell_type": "code",
      "metadata": {
        "id": "d7Au10ccQPam",
        "colab_type": "code",
        "colab": {
          "base_uri": "https://localhost:8080/",
          "height": 193
        },
        "outputId": "ccaa1b19-6561-4cd1-dcd6-93a99b7f10ed"
      },
      "source": [
        "!pip install timeout-decorator"
      ],
      "execution_count": 1,
      "outputs": [
        {
          "output_type": "stream",
          "text": [
            "Collecting timeout-decorator\n",
            "  Downloading https://files.pythonhosted.org/packages/07/1c/0d9adcb848f1690f3253dcb1c1557b6cf229a93e724977cb83f266cbd0ae/timeout-decorator-0.4.1.tar.gz\n",
            "Building wheels for collected packages: timeout-decorator\n",
            "  Building wheel for timeout-decorator (setup.py) ... \u001b[?25l\u001b[?25hdone\n",
            "  Created wheel for timeout-decorator: filename=timeout_decorator-0.4.1-cp36-none-any.whl size=5021 sha256=590a27ae4770fb6f8bbb519ffaaa501bbf8f6f88f8dbafa9f66194c86b99deb7\n",
            "  Stored in directory: /root/.cache/pip/wheels/f1/e6/ea/7387e3629cb46ba65140141f972745b823f4486c6fe884ccb8\n",
            "Successfully built timeout-decorator\n",
            "Installing collected packages: timeout-decorator\n",
            "Successfully installed timeout-decorator-0.4.1\n"
          ],
          "name": "stdout"
        }
      ]
    },
    {
      "cell_type": "markdown",
      "metadata": {
        "id": "ZZhcIrCevlc4",
        "colab_type": "text"
      },
      "source": [
        "#### **Read graph data** "
      ]
    },
    {
      "cell_type": "markdown",
      "metadata": {
        "id": "vw69kvqGGpUL",
        "colab_type": "text"
      },
      "source": [
        "##### Data from the original article"
      ]
    },
    {
      "cell_type": "code",
      "metadata": {
        "id": "Qev-12ZOGlco",
        "colab_type": "code",
        "colab": {}
      },
      "source": [
        "## [node i, node j, distance between node i and j]\n",
        "## using data from example 1: San Francisco Bay Area Graph of Time-Distances (in minutes)\n",
        "nodes = 9\n",
        "source = 1\n",
        "destination = 7\n",
        "\n",
        "data = [[1, 2, 30], [1, 4, 30], [1, 9, 40],\n",
        "        [2, 3, 25], [2, 4, 40], [3, 4, 50],\n",
        "        [4, 5, 30], [4, 6, 20], [5, 7, 25],\n",
        "        [6, 7, 20], [6, 9, 20], [7, 8, 25],\n",
        "        [8, 9, 20]]"
      ],
      "execution_count": 2,
      "outputs": []
    },
    {
      "cell_type": "markdown",
      "metadata": {
        "id": "rMaJB5Y1GmMQ",
        "colab_type": "text"
      },
      "source": [
        "##### Read random graph"
      ]
    },
    {
      "cell_type": "code",
      "metadata": {
        "id": "1ej6mBJFQd3m",
        "colab_type": "code",
        "colab": {
          "base_uri": "https://localhost:8080/",
          "height": 87
        },
        "outputId": "d727c5fe-72d4-4f91-a791-5f3cd3ab6071"
      },
      "source": [
        "%cd '/content/gdrive/My Drive/Colab Notebooks/hedetniemi_matrix_sum'\n",
        "\n",
        "## Number of nodes (100/1,000/10,000/100,000/1,000,000)\n",
        "nodes = 1000\n",
        "print('Nodes: ', nodes)\n",
        "## Total degree\n",
        "degree = 3\n",
        "print('Degree: ', degree)\n",
        "\n",
        "data = []\n",
        "with open('graph_n' + str(nodes) + '_d' + str(degree) + '.txt', 'r') as f:\n",
        "  lines = f.read().splitlines()\n",
        "  for line in lines:\n",
        "    l = line.split()\n",
        "    item = [int(l[0]), int(l[1]), float(l[2])]\n",
        "    data.append(item)\n",
        "\n",
        "print(data[0])"
      ],
      "execution_count": null,
      "outputs": [
        {
          "output_type": "stream",
          "text": [
            "/content/gdrive/My Drive/Colab Notebooks/hedetniemi_matrix_sum\n",
            "Nodes:  1000\n",
            "Degree:  3\n",
            "[609, 621, 18.019071417527243]\n"
          ],
          "name": "stdout"
        }
      ]
    },
    {
      "cell_type": "markdown",
      "metadata": {
        "id": "KCgStxrHk-hK",
        "colab_type": "text"
      },
      "source": [
        "#### **Implementation 1: list** "
      ]
    },
    {
      "cell_type": "markdown",
      "metadata": {
        "id": "KRCtneOH6qRx",
        "colab_type": "text"
      },
      "source": [
        "##### Construct distance matrix"
      ]
    },
    {
      "cell_type": "code",
      "metadata": {
        "id": "qAUmQVVG6p4F",
        "colab_type": "code",
        "colab": {
          "base_uri": "https://localhost:8080/",
          "height": 35
        },
        "outputId": "8dd0c449-2947-430a-d06d-41d25f91d40b"
      },
      "source": [
        "from timeit import default_timer\n",
        "import timeout_decorator\n",
        "\n",
        "@timeout_decorator.timeout(100)\n",
        "def distance_matrix(graph, n):\n",
        "  ## calculate distance matrix\n",
        "  INF = float('inf')\n",
        "  dist_mtx = [[INF] * n for i in range(n)]\n",
        "  for g in graph:\n",
        "    i = g[0] - 1\n",
        "    j = g[1] - 1\n",
        "    d = g[2]\n",
        "    dist_mtx[i][j] = d\n",
        "    dist_mtx[j][i] = d\n",
        "\n",
        "  ## set diagonal to 0\n",
        "  for i in range(n):\n",
        "    dist_mtx[i][i] = 0.0\n",
        " \n",
        "  return dist_mtx\n",
        "\n",
        "\n",
        "## print time costs\n",
        "try:\n",
        "  start = default_timer()\n",
        "  dist_mtx = distance_matrix(data, nodes)\n",
        "  stop = default_timer()\n",
        "  print('Time: ', stop - start)\n",
        "except:\n",
        "  print('Time: inf')"
      ],
      "execution_count": null,
      "outputs": [
        {
          "output_type": "stream",
          "text": [
            "Time:  0.00017785399995773332\n"
          ],
          "name": "stdout"
        }
      ]
    },
    {
      "cell_type": "markdown",
      "metadata": {
        "id": "oNuCl6jDlase",
        "colab_type": "text"
      },
      "source": [
        "##### Calculate Dijkstra distance"
      ]
    },
    {
      "cell_type": "code",
      "metadata": {
        "id": "HaA0uByRlDws",
        "colab_type": "code",
        "colab": {
          "base_uri": "https://localhost:8080/",
          "height": 35
        },
        "outputId": "784f7a9e-c876-4d81-beb9-3d96ddc352ce"
      },
      "source": [
        "from timeit import default_timer\n",
        "import timeout_decorator\n",
        "\n",
        "INF = float('inf')\n",
        "\n",
        "@timeout_decorator.timeout(100)\n",
        "def dijkstra(source, distmatrix, n):\n",
        "  dist = [INF if i!=source else 0 for i in range(n)]\n",
        "  Q = list(range(n))\n",
        "  while len(Q)>0:\n",
        "    u = get_remove_min(Q, dist)\n",
        "    U = get_neighbor(u, distmatrix, n)\n",
        "    for v in U:\n",
        "      newd = dist[u] + distmatrix[u][v]\n",
        "      if newd < dist[v]:\n",
        "        dist[v] = newd\n",
        "  return dist\n",
        "\n",
        "\n",
        "def get_remove_min(Q, dist):\n",
        "  dmin = INF\n",
        "  imin = -1\n",
        "  for i in Q:\n",
        "    if dist[i] < dmin:\n",
        "      dmin = dist[i]\n",
        "      imin = i\n",
        "  Q.remove(imin)\n",
        "  return imin\n",
        "\n",
        "\n",
        "def get_neighbor(u, d, n):\n",
        "  neighbors = [i for i in range(n) if d[i][u]!=INF and i!=u]\n",
        "  return neighbors\n",
        "\n",
        "\n",
        "def shortest_path(source, destination, distmatrix, n):\n",
        "  dist = dijkstra(source, distmatrix, n)\n",
        "  return dist[destination]\n",
        "\n",
        "## print time costs\n",
        "try:\n",
        "  start = default_timer()\n",
        "  dist = shortest_path(source, destination, dist_mtx, nodes)\n",
        "  stop = default_timer()\n",
        "  print('Time: ', stop - start)\n",
        "  \n",
        "except:\n",
        "  print('Time: inf')\n",
        "  raise"
      ],
      "execution_count": null,
      "outputs": [
        {
          "output_type": "stream",
          "text": [
            "Time:  0.00010139500000150292\n"
          ],
          "name": "stdout"
        }
      ]
    },
    {
      "cell_type": "markdown",
      "metadata": {
        "id": "Mhv-X5vRcHi8",
        "colab_type": "text"
      },
      "source": [
        "#### **Implementation 2: numpy** "
      ]
    },
    {
      "cell_type": "markdown",
      "metadata": {
        "id": "A2WTdjuJdIYg",
        "colab_type": "text"
      },
      "source": [
        "##### Construct distance matrix"
      ]
    },
    {
      "cell_type": "code",
      "metadata": {
        "id": "N2fssLdVc6NK",
        "colab_type": "code",
        "colab": {
          "base_uri": "https://localhost:8080/",
          "height": 35
        },
        "outputId": "9cb9f3b5-40a7-4dff-c05f-f8268b6b8c4d"
      },
      "source": [
        "from timeit import default_timer\n",
        "import numpy as np\n",
        "import timeout_decorator\n",
        "\n",
        "@timeout_decorator.timeout(100)\n",
        "def distance_matrix(graph, n):\n",
        "  ## calculate distance matrix\n",
        "  dist_mtx = np.full((n,n), np.inf)\n",
        "  for g in graph:\n",
        "    i = int(g[0]) - 1\n",
        "    j = int(g[1]) - 1\n",
        "    d = g[2]\n",
        "    dist_mtx[i,j] = d\n",
        "    dist_mtx[j,i] = d\n",
        "\n",
        "  ## set diagonal to 0\n",
        "  np.fill_diagonal(dist_mtx, 0)\n",
        " \n",
        "  return dist_mtx\n",
        "\n",
        "\n",
        "## print time costs\n",
        "try:\n",
        "  start = default_timer()\n",
        "  dist_mtx = distance_matrix(np.array(data), nodes)\n",
        "  stop = default_timer()\n",
        "  print('Time: ', stop - start)\n",
        "except:\n",
        "  print('Time: inf')"
      ],
      "execution_count": 3,
      "outputs": [
        {
          "output_type": "stream",
          "text": [
            "Time:  0.00018018500000493987\n"
          ],
          "name": "stdout"
        }
      ]
    },
    {
      "cell_type": "markdown",
      "metadata": {
        "id": "-aIY1oh00d8u",
        "colab_type": "text"
      },
      "source": [
        "##### Calculate Dijkstra distance"
      ]
    },
    {
      "cell_type": "code",
      "metadata": {
        "id": "pLG6xZwT0j3A",
        "colab_type": "code",
        "colab": {
          "base_uri": "https://localhost:8080/",
          "height": 52
        },
        "outputId": "f09e04e5-cf74-462c-aec5-fe40dd57a158"
      },
      "source": [
        "from timeit import default_timer\n",
        "import numpy as np\n",
        "# import timeout_decorator\n",
        "\n",
        "# @timeout_decorator.timeout(100)\n",
        "def dijkstra(source, distmatrix, n):\n",
        "  dist = np.array([np.inf if i!=source else 0 for i in range(n)])\n",
        "  Q = np.arange(n)\n",
        "  while Q.shape[0]>0:\n",
        "    u, Q = get_remove_min(Q, dist)\n",
        "    U = get_neighbor(u, distmatrix, n)\n",
        "    for v in U:\n",
        "      newd = dist[u] + distmatrix[u,v]\n",
        "      if newd < dist[v]:\n",
        "        dist[v] = newd\n",
        "  return dist\n",
        "\n",
        "\n",
        "def get_remove_min(Q, dist):\n",
        "  dmin = np.inf\n",
        "  imin = -1\n",
        "  for i in Q:\n",
        "    if dist[i] < dmin:\n",
        "      dmin = dist[i]\n",
        "      imin = i\n",
        "  Q = np.delete(Q, np.where(Q == imin))\n",
        "  return imin, Q\n",
        "\n",
        "\n",
        "def get_neighbor(u, d, n):\n",
        "  neighbors = np.array([i for i in range(n) if d[i,u]!=np.inf and i!=u])\n",
        "  return neighbors\n",
        "\n",
        "\n",
        "def shortest_path(source, destination, distmatrix, n):\n",
        "  dist = dijkstra(source, distmatrix, n)\n",
        "  return dist[destination]\n",
        "\n",
        "\n",
        "## print time costs\n",
        "try:\n",
        "  start = default_timer()\n",
        "  dist = shortest_path(source, destination, dist_mtx, nodes)\n",
        "  stop = default_timer()\n",
        "  print('Time: ', stop - start)\n",
        "  \n",
        "except:\n",
        "  print('Time: inf')\n",
        "  raise"
      ],
      "execution_count": 15,
      "outputs": [
        {
          "output_type": "stream",
          "text": [
            "90.0\n",
            "Time:  0.0010139059999119127\n"
          ],
          "name": "stdout"
        }
      ]
    }
  ]
}
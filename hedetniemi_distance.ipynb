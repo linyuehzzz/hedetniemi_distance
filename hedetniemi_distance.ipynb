{
  "nbformat": 4,
  "nbformat_minor": 0,
  "metadata": {
    "colab": {
      "name": "hedetniemi_distance.ipynb",
      "provenance": [],
      "collapsed_sections": [],
      "toc_visible": true,
      "authorship_tag": "ABX9TyMkcaMTfuENIpRnbx6ZuNnS",
      "include_colab_link": true
    },
    "kernelspec": {
      "name": "python3",
      "display_name": "Python 3"
    }
  },
  "cells": [
    {
      "cell_type": "markdown",
      "metadata": {
        "id": "view-in-github",
        "colab_type": "text"
      },
      "source": [
        "<a href=\"https://colab.research.google.com/github/linyuehzzz/hedetniemi_distance/blob/master/hedetniemi_distance.ipynb\" target=\"_parent\"><img src=\"https://colab.research.google.com/assets/colab-badge.svg\" alt=\"Open In Colab\"/></a>"
      ]
    },
    {
      "cell_type": "markdown",
      "metadata": {
        "id": "UrTaIelAvUyh",
        "colab_type": "text"
      },
      "source": [
        "##**Hedetniemi Matrix Sum**\n",
        "This code is used to implement the Hedetniemi Matrix Sum.  \n",
        "Yue Lin (lin.3326 at osu.edu)  \n",
        "Created: 5/6/2020"
      ]
    },
    {
      "cell_type": "markdown",
      "metadata": {
        "id": "ZZhcIrCevlc4",
        "colab_type": "text"
      },
      "source": [
        "#### **Generate graph data** "
      ]
    },
    {
      "cell_type": "code",
      "metadata": {
        "id": "EOMEWHYhvIEC",
        "colab_type": "code",
        "colab": {}
      },
      "source": [
        "## [node i, node j, distance between node i and j]\n",
        "graph = [[1, 2, 30], [1, 4, 30], [1, 9, 40],\n",
        "        [2, 3, 25], [2, 4, 40], [3, 4, 50],\n",
        "        [4, 5, 30], [4, 6, 20], [5, 7, 25],\n",
        "        [6, 7, 20], [6, 9, 20], [7, 8, 25],\n",
        "        [8, 9,20]]"
      ],
      "execution_count": 0,
      "outputs": []
    },
    {
      "cell_type": "markdown",
      "metadata": {
        "id": "QAXZLqVpyg6q",
        "colab_type": "text"
      },
      "source": [
        "#### **Implementation 1: list** "
      ]
    },
    {
      "cell_type": "markdown",
      "metadata": {
        "id": "OQgQu_GVy_qH",
        "colab_type": "text"
      },
      "source": [
        "Construct distance matrix"
      ]
    },
    {
      "cell_type": "code",
      "metadata": {
        "id": "2dvWqQldyn_-",
        "colab_type": "code",
        "colab": {
          "base_uri": "https://localhost:8080/",
          "height": 208
        },
        "outputId": "c1eea2c9-8b76-47a3-f7cd-1f8a13367d64"
      },
      "source": [
        "from timeit import default_timer\n",
        "\n",
        "def distance_matrix():\n",
        "  ## calculate number of nodes\n",
        "  n = max([g[1] for g in graph])\n",
        "\n",
        "  ## calculate distance matrix\n",
        "  INF = float('inf')\n",
        "  dist_mtx = [ [INF] * n for i in range(n)]\n",
        "  for g in graph:\n",
        "    i = g[0] - 1\n",
        "    j = g[1] - 1\n",
        "    d = g[2]\n",
        "    dist_mtx[i][j] = d\n",
        "    dist_mtx[j][i] = d\n",
        "\n",
        "  ## set diagonal to 0\n",
        "  for i in range(n):\n",
        "    dist_mtx[i][i] = 0\n",
        " \n",
        "  return dist_mtx, n\n",
        "\n",
        "\n",
        "## print time costs\n",
        "start = default_timer()\n",
        "dist_mtx, n = distance_matrix()\n",
        "stop = default_timer()\n",
        "print('Time: ', stop - start)\n",
        "\n",
        "## print distance matrix\n",
        "print(\"Distance matrix: \")\n",
        "for line in dist_mtx:\n",
        "  print(line)"
      ],
      "execution_count": 14,
      "outputs": [
        {
          "output_type": "stream",
          "text": [
            "Time:  5.7499999456922524e-05\n",
            "Distance matrix: \n",
            "[0, 30, inf, 30, inf, inf, inf, inf, 40]\n",
            "[30, 0, 25, 40, inf, inf, inf, inf, inf]\n",
            "[inf, 25, 0, 50, inf, inf, inf, inf, inf]\n",
            "[30, 40, 50, 0, 30, 20, inf, inf, inf]\n",
            "[inf, inf, inf, 30, 0, inf, 25, inf, inf]\n",
            "[inf, inf, inf, 20, inf, 0, 20, inf, 20]\n",
            "[inf, inf, inf, inf, 25, 20, 0, 25, inf]\n",
            "[inf, inf, inf, inf, inf, inf, 25, 0, 20]\n",
            "[40, inf, inf, inf, inf, 20, inf, 20, 0]\n"
          ],
          "name": "stdout"
        }
      ]
    },
    {
      "cell_type": "markdown",
      "metadata": {
        "id": "UuweDoyg142o",
        "colab_type": "text"
      },
      "source": [
        "Calculate Hedetniemi Matrix Sum"
      ]
    },
    {
      "cell_type": "code",
      "metadata": {
        "id": "OgttG9AF2KzL",
        "colab_type": "code",
        "colab": {
          "base_uri": "https://localhost:8080/",
          "height": 208
        },
        "outputId": "91a8070d-5874-44c5-f152-52bcbf1cc9dc"
      },
      "source": [
        "from timeit import default_timer\n",
        "def column(matrix, i):\n",
        "    return [row[i] for row in matrix]\n",
        "\n",
        "\n",
        "def hede_distance(matrix, n):\n",
        "  mtx_a_t = [ [INF] * n for i in range(n)]\n",
        "  mtx_a_t_1 = matrix\n",
        "\n",
        "  p = True\n",
        "  while p:\n",
        "    for i in range(n):\n",
        "      a = mtx_a_t_1[i]\n",
        "      for j in range(n):\n",
        "        b = column(matrix, j)\n",
        "        mtx_a_t[i][j] = min([a[k] + b[k] for k in range(n)])\n",
        "    \n",
        "    if mtx_a_t == mtx_a_t_1:\n",
        "      p =  False\n",
        "    else:\n",
        "      mtx_a_t_1 = mtx_a_t   \n",
        "  \n",
        "  return mtx_a_t\n",
        "\n",
        "\n",
        "## print time costs\n",
        "start = default_timer()\n",
        "mtx_a_t = hede_distance(dist_mtx, n)\n",
        "stop = default_timer()\n",
        "print('Time: ', stop - start)\n",
        "\n",
        "## print shortest path matrix\n",
        "print(\"Shortest path matrix: \")\n",
        "for line in mtx_a_t:\n",
        "  print(line)"
      ],
      "execution_count": 16,
      "outputs": [
        {
          "output_type": "stream",
          "text": [
            "Time:  0.000455367999165901\n",
            "Shortest path matrix: \n",
            "[0, 30, 55, 30, 60, 50, 70, 60, 40]\n",
            "[30, 0, 25, 40, 70, 60, 80, 90, 70]\n",
            "[55, 25, 0, 50, 80, 70, 90, 115, 90]\n",
            "[30, 40, 50, 0, 30, 20, 40, 60, 40]\n",
            "[60, 70, 80, 30, 0, 45, 25, 50, 65]\n",
            "[50, 60, 70, 20, 45, 0, 20, 40, 20]\n",
            "[70, 80, 90, 40, 25, 20, 0, 25, 40]\n",
            "[60, 90, 115, 60, 50, 40, 25, 0, 20]\n",
            "[40, 70, 90, 40, 65, 20, 40, 20, 0]\n"
          ],
          "name": "stdout"
        }
      ]
    },
    {
      "cell_type": "markdown",
      "metadata": {
        "id": "Mhv-X5vRcHi8",
        "colab_type": "text"
      },
      "source": [
        "#### **Implementation 2: numpy** "
      ]
    }
  ]
}
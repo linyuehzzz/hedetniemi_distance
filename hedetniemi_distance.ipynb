{
  "nbformat": 4,
  "nbformat_minor": 0,
  "metadata": {
    "colab": {
      "name": "hedetniemi_distance.ipynb",
      "provenance": [],
      "collapsed_sections": [],
      "toc_visible": true,
      "authorship_tag": "ABX9TyPRCnWvUVLkRv/PL2xp7DdB",
      "include_colab_link": true
    },
    "kernelspec": {
      "name": "python3",
      "display_name": "Python 3"
    }
  },
  "cells": [
    {
      "cell_type": "markdown",
      "metadata": {
        "id": "view-in-github",
        "colab_type": "text"
      },
      "source": [
        "<a href=\"https://colab.research.google.com/github/linyuehzzz/hedetniemi_distance/blob/master/hedetniemi_distance.ipynb\" target=\"_parent\"><img src=\"https://colab.research.google.com/assets/colab-badge.svg\" alt=\"Open In Colab\"/></a>"
      ]
    },
    {
      "cell_type": "markdown",
      "metadata": {
        "id": "UrTaIelAvUyh",
        "colab_type": "text"
      },
      "source": [
        "##**Hedetniemi Matrix Sum**\n",
        "This code is used to implement the [Hedetniemi Matrix Sum](https://deepblue.lib.umich.edu/handle/2027.42/59763).  \n",
        "Yue Lin (lin.3326 at osu.edu)  \n",
        "Created: 5/6/2020"
      ]
    },
    {
      "cell_type": "markdown",
      "metadata": {
        "id": "ZZhcIrCevlc4",
        "colab_type": "text"
      },
      "source": [
        "#### **Generate graph data** "
      ]
    },
    {
      "cell_type": "code",
      "metadata": {
        "id": "EOMEWHYhvIEC",
        "colab_type": "code",
        "colab": {}
      },
      "source": [
        "## [node i, node j, distance between node i and j]\n",
        "## using data from example 1: San Francisco Bay Area Graph of Time-Distances (in minutes)\n",
        "data = [[1, 2, 30], [1, 4, 30], [1, 9, 40],\n",
        "        [2, 3, 25], [2, 4, 40], [3, 4, 50],\n",
        "        [4, 5, 30], [4, 6, 20], [5, 7, 25],\n",
        "        [6, 7, 20], [6, 9, 20], [7, 8, 25],\n",
        "        [8, 9, 20]]"
      ],
      "execution_count": 0,
      "outputs": []
    },
    {
      "cell_type": "markdown",
      "metadata": {
        "id": "QAXZLqVpyg6q",
        "colab_type": "text"
      },
      "source": [
        "#### **Implementation 1: list** "
      ]
    },
    {
      "cell_type": "markdown",
      "metadata": {
        "id": "OQgQu_GVy_qH",
        "colab_type": "text"
      },
      "source": [
        "Construct distance matrix"
      ]
    },
    {
      "cell_type": "code",
      "metadata": {
        "id": "2dvWqQldyn_-",
        "colab_type": "code",
        "outputId": "85b263d1-76e8-41e8-fc50-1831e7bf8252",
        "colab": {
          "base_uri": "https://localhost:8080/",
          "height": 208
        }
      },
      "source": [
        "from timeit import default_timer\n",
        "\n",
        "def distance_matrix(graph):\n",
        "  ## calculate number of nodes\n",
        "  n = max([g[1] for g in graph])\n",
        "\n",
        "  ## calculate distance matrix\n",
        "  INF = float('inf')\n",
        "  dist_mtx = [[INF] * n for i in range(n)]\n",
        "  for g in graph:\n",
        "    i = g[0] - 1\n",
        "    j = g[1] - 1\n",
        "    d = g[2]\n",
        "    dist_mtx[i][j] = d\n",
        "    dist_mtx[j][i] = d\n",
        "\n",
        "  ## set diagonal to 0\n",
        "  for i in range(n):\n",
        "    dist_mtx[i][i] = 0\n",
        " \n",
        "  return dist_mtx, n\n",
        "\n",
        "\n",
        "## print time costs\n",
        "start = default_timer()\n",
        "dist_mtx, n = distance_matrix(data)\n",
        "stop = default_timer()\n",
        "print('Time: ', stop - start)\n",
        "\n",
        "## print distance matrix\n",
        "print(\"Distance matrix: \")\n",
        "for line in dist_mtx:\n",
        "  print(line)"
      ],
      "execution_count": 114,
      "outputs": [
        {
          "output_type": "stream",
          "text": [
            "Time:  8.185199840227142e-05\n",
            "Distance matrix: \n",
            "[0, 30, inf, 30, inf, inf, inf, inf, 40]\n",
            "[30, 0, 25, 40, inf, inf, inf, inf, inf]\n",
            "[inf, 25, 0, 50, inf, inf, inf, inf, inf]\n",
            "[30, 40, 50, 0, 30, 20, inf, inf, inf]\n",
            "[inf, inf, inf, 30, 0, inf, 25, inf, inf]\n",
            "[inf, inf, inf, 20, inf, 0, 20, inf, 20]\n",
            "[inf, inf, inf, inf, 25, 20, 0, 25, inf]\n",
            "[inf, inf, inf, inf, inf, inf, 25, 0, 20]\n",
            "[40, inf, inf, inf, inf, 20, inf, 20, 0]\n"
          ],
          "name": "stdout"
        }
      ]
    },
    {
      "cell_type": "markdown",
      "metadata": {
        "id": "UuweDoyg142o",
        "colab_type": "text"
      },
      "source": [
        "Calculate Hedetniemi Matrix Sum"
      ]
    },
    {
      "cell_type": "code",
      "metadata": {
        "id": "OgttG9AF2KzL",
        "colab_type": "code",
        "outputId": "b33f9155-10e6-442d-9abe-a3680076a73a",
        "colab": {
          "base_uri": "https://localhost:8080/",
          "height": 208
        }
      },
      "source": [
        "from timeit import default_timer\n",
        "\n",
        "def hede_distance(matrix, n):\n",
        "  INF = float('inf')\n",
        "  mtx_a_t = [[INF] * n for i in range(n)]\n",
        "  mtx_a_t_1 = matrix\n",
        "\n",
        "  p = True\n",
        "  while p:\n",
        "    for i in range(n):\n",
        "      a = mtx_a_t_1[i]\n",
        "      for j in range(n):\n",
        "        b = [row[j] for row in matrix]\n",
        "        mtx_a_t[i][j] = min([a[k] + b[k] for k in range(n)])\n",
        "    \n",
        "    if mtx_a_t == mtx_a_t_1:\n",
        "      p =  False\n",
        "    else:\n",
        "      mtx_a_t_1 = mtx_a_t   \n",
        "  \n",
        "  return mtx_a_t\n",
        "\n",
        "\n",
        "## print time costs\n",
        "start = default_timer()\n",
        "mtx_a_t = hede_distance(dist_mtx, n)\n",
        "stop = default_timer()\n",
        "print('Time: ', stop - start)\n",
        "\n",
        "## print shortest path matrix\n",
        "print(\"Shortest path matrix: \")\n",
        "for line in mtx_a_t:\n",
        "  print(line)"
      ],
      "execution_count": 115,
      "outputs": [
        {
          "output_type": "stream",
          "text": [
            "Time:  0.0004270609933882952\n",
            "Shortest path matrix: \n",
            "[0, 30, 55, 30, 60, 50, 70, 60, 40]\n",
            "[30, 0, 25, 40, 70, 60, 80, 90, 70]\n",
            "[55, 25, 0, 50, 80, 70, 90, 115, 90]\n",
            "[30, 40, 50, 0, 30, 20, 40, 60, 40]\n",
            "[60, 70, 80, 30, 0, 45, 25, 50, 65]\n",
            "[50, 60, 70, 20, 45, 0, 20, 40, 20]\n",
            "[70, 80, 90, 40, 25, 20, 0, 25, 40]\n",
            "[60, 90, 115, 60, 50, 40, 25, 0, 20]\n",
            "[40, 70, 90, 40, 65, 20, 40, 20, 0]\n"
          ],
          "name": "stdout"
        }
      ]
    },
    {
      "cell_type": "markdown",
      "metadata": {
        "id": "Mhv-X5vRcHi8",
        "colab_type": "text"
      },
      "source": [
        "#### **Implementation 2: numpy** "
      ]
    },
    {
      "cell_type": "markdown",
      "metadata": {
        "id": "A2WTdjuJdIYg",
        "colab_type": "text"
      },
      "source": [
        "Construct distance matrix"
      ]
    },
    {
      "cell_type": "code",
      "metadata": {
        "id": "N2fssLdVc6NK",
        "colab_type": "code",
        "outputId": "bc4ff63b-7d54-40d7-aba0-a7c9c0cb2d3c",
        "colab": {
          "base_uri": "https://localhost:8080/",
          "height": 208
        }
      },
      "source": [
        "from timeit import default_timer\n",
        "import numpy as np\n",
        "\n",
        "def distance_matrix(graph):\n",
        "  ## calculate number of nodes\n",
        "  n = np.amax(graph[:,1])\n",
        "\n",
        "  ## calculate distance matrix\n",
        "  dist_mtx = np.full((n,n), np.inf)\n",
        "  for g in graph:\n",
        "    i = g[0] - 1\n",
        "    j = g[1] - 1\n",
        "    d = g[2]\n",
        "    dist_mtx[i,j] = d\n",
        "    dist_mtx[j,i] = d\n",
        "\n",
        "  ## set diagonal to 0\n",
        "  np.fill_diagonal(dist_mtx, 0)\n",
        " \n",
        "  return dist_mtx, n\n",
        "\n",
        "\n",
        "## print time costs\n",
        "start = default_timer()\n",
        "dist_mtx, n = distance_matrix(np.array(data))\n",
        "stop = default_timer()\n",
        "print('Time: ', stop - start)\n",
        "\n",
        "## print distance matrix\n",
        "print(\"Distance matrix: \")\n",
        "for line in dist_mtx:\n",
        "  print(line)"
      ],
      "execution_count": 116,
      "outputs": [
        {
          "output_type": "stream",
          "text": [
            "Time:  0.0006318369996733963\n",
            "Distance matrix: \n",
            "[ 0. 30. inf 30. inf inf inf inf 40.]\n",
            "[30.  0. 25. 40. inf inf inf inf inf]\n",
            "[inf 25.  0. 50. inf inf inf inf inf]\n",
            "[30. 40. 50.  0. 30. 20. inf inf inf]\n",
            "[inf inf inf 30.  0. inf 25. inf inf]\n",
            "[inf inf inf 20. inf  0. 20. inf 20.]\n",
            "[inf inf inf inf 25. 20.  0. 25. inf]\n",
            "[inf inf inf inf inf inf 25.  0. 20.]\n",
            "[40. inf inf inf inf 20. inf 20.  0.]\n"
          ],
          "name": "stdout"
        }
      ]
    },
    {
      "cell_type": "markdown",
      "metadata": {
        "id": "L7Hs6M7Lz0Uq",
        "colab_type": "text"
      },
      "source": [
        "Calculate Hedetniemi Matrix Sum"
      ]
    },
    {
      "cell_type": "code",
      "metadata": {
        "id": "aSAYnThPz5tu",
        "colab_type": "code",
        "outputId": "9734f20f-f3b0-42f6-b32a-04926c74f72b",
        "colab": {
          "base_uri": "https://localhost:8080/",
          "height": 208
        }
      },
      "source": [
        "from timeit import default_timer\n",
        "import numpy as np\n",
        "\n",
        "def hede_distance(matrix, n):\n",
        "  mtx_a_t = np.full((n,n), np.inf)\n",
        "  mtx_a_t_1 = matrix\n",
        "\n",
        "  p = True\n",
        "  while p:\n",
        "    for i in range(n):\n",
        "      a = mtx_a_t_1[i]\n",
        "      for j in range(n):\n",
        "        b = matrix[:,j]\n",
        "        mtx_a_t[i,j] = np.amin([a[k] + b[k] for k in range(n)])\n",
        "    \n",
        "    if np.array_equal(mtx_a_t, mtx_a_t_1):\n",
        "      p =  False\n",
        "    else:\n",
        "      mtx_a_t_1 = mtx_a_t   \n",
        "  \n",
        "  return mtx_a_t\n",
        "\n",
        "\n",
        "## print time costs\n",
        "start = default_timer()\n",
        "mtx_a_t = hede_distance(dist_mtx, n)\n",
        "stop = default_timer()\n",
        "print('Time: ', stop - start)\n",
        "\n",
        "## print shortest path matrix\n",
        "print(\"Shortest path matrix: \")\n",
        "for line in mtx_a_t:\n",
        "  print(line)"
      ],
      "execution_count": 117,
      "outputs": [
        {
          "output_type": "stream",
          "text": [
            "Time:  0.002320665997103788\n",
            "Shortest path matrix: \n",
            "[ 0. 30. 55. 30. 60. 50. 70. 60. 40.]\n",
            "[30.  0. 25. 40. 70. 60. 80. 90. 70.]\n",
            "[ 55.  25.   0.  50.  80.  70.  90. 115.  90.]\n",
            "[30. 40. 50.  0. 30. 20. 40. 60. 40.]\n",
            "[60. 70. 80. 30.  0. 45. 25. 50. 65.]\n",
            "[50. 60. 70. 20. 45.  0. 20. 40. 20.]\n",
            "[70. 80. 90. 40. 25. 20.  0. 25. 40.]\n",
            "[ 60.  90. 115.  60.  50.  40.  25.   0.  20.]\n",
            "[40. 70. 90. 40. 65. 20. 40. 20.  0.]\n"
          ],
          "name": "stdout"
        }
      ]
    },
    {
      "cell_type": "markdown",
      "metadata": {
        "id": "tuSQ6qKm16hk",
        "colab_type": "text"
      },
      "source": [
        "#### **Implementation 3: tensorflow** "
      ]
    },
    {
      "cell_type": "code",
      "metadata": {
        "id": "9KBEq17fCirZ",
        "colab_type": "code",
        "colab": {}
      },
      "source": [
        "!pip install -q tf-nightly"
      ],
      "execution_count": 0,
      "outputs": []
    },
    {
      "cell_type": "markdown",
      "metadata": {
        "id": "S1bYJIJY126k",
        "colab_type": "text"
      },
      "source": [
        "Construct distance matrix"
      ]
    },
    {
      "cell_type": "code",
      "metadata": {
        "id": "_nx019Eu12Hb",
        "colab_type": "code",
        "outputId": "40e8c85e-a33b-4078-8008-aea54e2bf837",
        "colab": {
          "base_uri": "https://localhost:8080/",
          "height": 225
        }
      },
      "source": [
        "from timeit import default_timer\n",
        "import tensorflow as tf\n",
        "import numpy as np\n",
        "\n",
        "start = default_timer()\n",
        "\n",
        "## convert graph\n",
        "graph = tf.constant(data, dtype=tf.float32)\n",
        "length = tf.dtypes.cast(tf.size(graph)/3, tf.int32)\n",
        "graph = tf.gather(graph, tf.nn.top_k(-graph[:,0], k=length).indices)\n",
        "\n",
        "## calculate number of nodes\n",
        "n = tf.math.reduce_max(graph[:,1])\n",
        "n = tf.dtypes.cast(n, tf.int32)\n",
        "\n",
        "########### calculate distance matrix ###########\n",
        "m = tf.shape(graph)[0]                    ## number of rows in graph\n",
        "k = tf.constant(0)                        ## index for row in graph\n",
        "i = tf.constant(0, dtype=tf.float32)      ## index for row in distance matrix\n",
        "row = tf.fill([1, n], np.inf)\n",
        "\n",
        "while tf.math.less(k, m):\n",
        "  if tf.math.equal(tf.math.subtract(graph[k][0], 1), i):    \n",
        "    p = tf.one_hot([tf.math.subtract(graph[k][1], 1)], depth=n, \n",
        "                   on_value=graph[k][2], off_value=np.inf, axis=-1)    \n",
        "    row = tf.math.minimum(row, p, name=None)\n",
        "    k = tf.math.add(k, 1)\n",
        "  else:\n",
        "    if tf.math.equal(i, 0):\n",
        "      dist_mtx = row\n",
        "    else:\n",
        "      dist_mtx = tf.concat([dist_mtx, row], 0) \n",
        "    i = tf.math.add(i, 1)\n",
        "    row = tf.fill([1, n], np.inf)\n",
        "\n",
        "dist_mtx = tf.concat([dist_mtx, row], 0)\n",
        "row = tf.constant(tf.fill([1, n], np.inf))\n",
        "while tf.math.less(tf.dtypes.cast(i, tf.int32), tf.math.subtract(n, 1)):  \n",
        "  dist_mtx = tf.concat([dist_mtx, row], 0)\n",
        "  i = tf.math.add(i, 1)\n",
        "\n",
        "## add transposed matrix\n",
        "dist_mtx_tr = tf.transpose(dist_mtx)\n",
        "dist_mtx = tf.math.minimum(dist_mtx_tr, dist_mtx, name=None)\n",
        "\n",
        "## set diagonal to 0\n",
        "dist_mtx = tf.linalg.set_diag(dist_mtx, tf.zeros([n], tf.float32), name=None)\n",
        "\n",
        "## print time costs\n",
        "stop = default_timer()\n",
        "print('Time: ', stop - start)\n",
        "\n",
        "## print distance matrix\n",
        "print(\"Distance matrix: \")\n",
        "print(dist_mtx)"
      ],
      "execution_count": 119,
      "outputs": [
        {
          "output_type": "stream",
          "text": [
            "Time:  0.025642478998634033\n",
            "Distance matrix: \n",
            "tf.Tensor(\n",
            "[[ 0. 30. inf 30. inf inf inf inf 40.]\n",
            " [30.  0. 25. 40. inf inf inf inf inf]\n",
            " [inf 25.  0. 50. inf inf inf inf inf]\n",
            " [30. 40. 50.  0. 30. 20. inf inf inf]\n",
            " [inf inf inf 30.  0. inf 25. inf inf]\n",
            " [inf inf inf 20. inf  0. 20. inf 20.]\n",
            " [inf inf inf inf 25. 20.  0. 25. inf]\n",
            " [inf inf inf inf inf inf 25.  0. 20.]\n",
            " [40. inf inf inf inf 20. inf 20.  0.]], shape=(9, 9), dtype=float32)\n"
          ],
          "name": "stdout"
        }
      ]
    }
  ]
}
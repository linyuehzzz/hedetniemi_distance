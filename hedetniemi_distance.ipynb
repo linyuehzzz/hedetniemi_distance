{
  "nbformat": 4,
  "nbformat_minor": 0,
  "metadata": {
    "colab": {
      "name": "hedetniemi_distance.ipynb",
      "provenance": [],
      "collapsed_sections": [],
      "toc_visible": true,
      "authorship_tag": "ABX9TyNc+pobdmleCqdJvRUlOvze",
      "include_colab_link": true
    },
    "kernelspec": {
      "name": "python3",
      "display_name": "Python 3"
    }
  },
  "cells": [
    {
      "cell_type": "markdown",
      "metadata": {
        "id": "view-in-github",
        "colab_type": "text"
      },
      "source": [
        "<a href=\"https://colab.research.google.com/github/linyuehzzz/hedetniemi_distance/blob/master/hedetniemi_distance.ipynb\" target=\"_parent\"><img src=\"https://colab.research.google.com/assets/colab-badge.svg\" alt=\"Open In Colab\"/></a>"
      ]
    },
    {
      "cell_type": "markdown",
      "metadata": {
        "id": "UrTaIelAvUyh",
        "colab_type": "text"
      },
      "source": [
        "##**Hedetniemi Matrix Sum**\n",
        "This code is used to implement the [Hedetniemi Matrix Sum](https://deepblue.lib.umich.edu/handle/2027.42/59763).  \n",
        "Yue Lin (lin.3326 at osu.edu)  \n",
        "Created: 5/6/2020"
      ]
    },
    {
      "cell_type": "markdown",
      "metadata": {
        "id": "ZZhcIrCevlc4",
        "colab_type": "text"
      },
      "source": [
        "#### **Generate graph data** "
      ]
    },
    {
      "cell_type": "code",
      "metadata": {
        "id": "EOMEWHYhvIEC",
        "colab_type": "code",
        "colab": {}
      },
      "source": [
        "## [node i, node j, distance between node i and j]\n",
        "## using data from example 1: San Francisco Bay Area Graph of Time-Distances (in minutes)\n",
        "data = [[1, 2, 30], [1, 4, 30], [1, 9, 40],\n",
        "        [2, 3, 25], [2, 4, 40], [3, 4, 50],\n",
        "        [4, 5, 30], [4, 6, 20], [5, 7, 25],\n",
        "        [6, 7, 20], [6, 9, 20], [7, 8, 25],\n",
        "        [8, 9, 20]]"
      ],
      "execution_count": 0,
      "outputs": []
    },
    {
      "cell_type": "markdown",
      "metadata": {
        "id": "QAXZLqVpyg6q",
        "colab_type": "text"
      },
      "source": [
        "#### **Implementation 1: list** "
      ]
    },
    {
      "cell_type": "markdown",
      "metadata": {
        "id": "OQgQu_GVy_qH",
        "colab_type": "text"
      },
      "source": [
        "Construct distance matrix"
      ]
    },
    {
      "cell_type": "code",
      "metadata": {
        "id": "2dvWqQldyn_-",
        "colab_type": "code",
        "outputId": "d549688f-dc8c-4947-878b-20fd5366d6f5",
        "colab": {
          "base_uri": "https://localhost:8080/",
          "height": 208
        }
      },
      "source": [
        "from timeit import default_timer\n",
        "\n",
        "def distance_matrix(graph):\n",
        "  ## calculate number of nodes\n",
        "  n = max([g[1] for g in graph])\n",
        "\n",
        "  ## calculate distance matrix\n",
        "  INF = float('inf')\n",
        "  dist_mtx = [[INF] * n for i in range(n)]\n",
        "  for g in graph:\n",
        "    i = g[0] - 1\n",
        "    j = g[1] - 1\n",
        "    d = g[2]\n",
        "    dist_mtx[i][j] = d\n",
        "    dist_mtx[j][i] = d\n",
        "\n",
        "  ## set diagonal to 0\n",
        "  for i in range(n):\n",
        "    dist_mtx[i][i] = 0\n",
        " \n",
        "  return dist_mtx, n\n",
        "\n",
        "\n",
        "## print time costs\n",
        "start = default_timer()\n",
        "dist_mtx, n = distance_matrix(data)\n",
        "stop = default_timer()\n",
        "print('Time: ', stop - start)\n",
        "\n",
        "## print distance matrix\n",
        "print(\"Distance matrix: \")\n",
        "for line in dist_mtx:\n",
        "  print(line)"
      ],
      "execution_count": 72,
      "outputs": [
        {
          "output_type": "stream",
          "text": [
            "Time:  8.67669987201225e-05\n",
            "Distance matrix: \n",
            "[0, 30, inf, 30, inf, inf, inf, inf, 40]\n",
            "[30, 0, 25, 40, inf, inf, inf, inf, inf]\n",
            "[inf, 25, 0, 50, inf, inf, inf, inf, inf]\n",
            "[30, 40, 50, 0, 30, 20, inf, inf, inf]\n",
            "[inf, inf, inf, 30, 0, inf, 25, inf, inf]\n",
            "[inf, inf, inf, 20, inf, 0, 20, inf, 20]\n",
            "[inf, inf, inf, inf, 25, 20, 0, 25, inf]\n",
            "[inf, inf, inf, inf, inf, inf, 25, 0, 20]\n",
            "[40, inf, inf, inf, inf, 20, inf, 20, 0]\n"
          ],
          "name": "stdout"
        }
      ]
    },
    {
      "cell_type": "markdown",
      "metadata": {
        "id": "UuweDoyg142o",
        "colab_type": "text"
      },
      "source": [
        "Calculate Hedetniemi Matrix Sum"
      ]
    },
    {
      "cell_type": "code",
      "metadata": {
        "id": "OgttG9AF2KzL",
        "colab_type": "code",
        "outputId": "60c96e2a-9401-4a38-ffb9-89821b95c1dc",
        "colab": {
          "base_uri": "https://localhost:8080/",
          "height": 208
        }
      },
      "source": [
        "from timeit import default_timer\n",
        "\n",
        "def hede_distance(matrix, n):\n",
        "  INF = float('inf')\n",
        "  mtx_a_t = [[INF] * n for i in range(n)]\n",
        "  mtx_a_t_1 = matrix\n",
        "\n",
        "  p = True\n",
        "  while p:\n",
        "    for i in range(n):\n",
        "      a = mtx_a_t_1[i]\n",
        "      for j in range(n):\n",
        "        b = [row[j] for row in matrix]\n",
        "        mtx_a_t[i][j] = min([a[k] + b[k] for k in range(n)])\n",
        "    \n",
        "    if mtx_a_t == mtx_a_t_1:\n",
        "      p =  False\n",
        "    else:\n",
        "      mtx_a_t_1 = mtx_a_t   \n",
        "  \n",
        "  return mtx_a_t\n",
        "\n",
        "\n",
        "## print time costs\n",
        "start = default_timer()\n",
        "mtx_a_t = hede_distance(dist_mtx, n)\n",
        "stop = default_timer()\n",
        "print('Time: ', stop - start)\n",
        "\n",
        "## print shortest path matrix\n",
        "print(\"Shortest path matrix: \")\n",
        "for line in mtx_a_t:\n",
        "  print(line)"
      ],
      "execution_count": 73,
      "outputs": [
        {
          "output_type": "stream",
          "text": [
            "Time:  0.0005294040001899702\n",
            "Shortest path matrix: \n",
            "[0, 30, 55, 30, 60, 50, 70, 60, 40]\n",
            "[30, 0, 25, 40, 70, 60, 80, 90, 70]\n",
            "[55, 25, 0, 50, 80, 70, 90, 115, 90]\n",
            "[30, 40, 50, 0, 30, 20, 40, 60, 40]\n",
            "[60, 70, 80, 30, 0, 45, 25, 50, 65]\n",
            "[50, 60, 70, 20, 45, 0, 20, 40, 20]\n",
            "[70, 80, 90, 40, 25, 20, 0, 25, 40]\n",
            "[60, 90, 115, 60, 50, 40, 25, 0, 20]\n",
            "[40, 70, 90, 40, 65, 20, 40, 20, 0]\n"
          ],
          "name": "stdout"
        }
      ]
    },
    {
      "cell_type": "markdown",
      "metadata": {
        "id": "Mhv-X5vRcHi8",
        "colab_type": "text"
      },
      "source": [
        "#### **Implementation 2: numpy** "
      ]
    },
    {
      "cell_type": "markdown",
      "metadata": {
        "id": "A2WTdjuJdIYg",
        "colab_type": "text"
      },
      "source": [
        "Construct distance matrix"
      ]
    },
    {
      "cell_type": "code",
      "metadata": {
        "id": "N2fssLdVc6NK",
        "colab_type": "code",
        "outputId": "48b8af08-d682-46a1-ede7-8d347f0c39e6",
        "colab": {
          "base_uri": "https://localhost:8080/",
          "height": 208
        }
      },
      "source": [
        "from timeit import default_timer\n",
        "import numpy as np\n",
        "\n",
        "def distance_matrix(graph):\n",
        "  ## calculate number of nodes\n",
        "  n = np.amax(graph[:,1])\n",
        "\n",
        "  ## calculate distance matrix\n",
        "  dist_mtx = np.full((n,n), np.inf)\n",
        "  for g in graph:\n",
        "    i = g[0] - 1\n",
        "    j = g[1] - 1\n",
        "    d = g[2]\n",
        "    dist_mtx[i,j] = d\n",
        "    dist_mtx[j,i] = d\n",
        "\n",
        "  ## set diagonal to 0\n",
        "  np.fill_diagonal(dist_mtx, 0)\n",
        " \n",
        "  return dist_mtx, n\n",
        "\n",
        "\n",
        "## print time costs\n",
        "start = default_timer()\n",
        "dist_mtx, n = distance_matrix(np.array(data))\n",
        "stop = default_timer()\n",
        "print('Time: ', stop - start)\n",
        "\n",
        "## print distance matrix\n",
        "print(\"Distance matrix: \")\n",
        "for line in dist_mtx:\n",
        "  print(line)"
      ],
      "execution_count": 74,
      "outputs": [
        {
          "output_type": "stream",
          "text": [
            "Time:  0.00025740599994605873\n",
            "Distance matrix: \n",
            "[ 0. 30. inf 30. inf inf inf inf 40.]\n",
            "[30.  0. 25. 40. inf inf inf inf inf]\n",
            "[inf 25.  0. 50. inf inf inf inf inf]\n",
            "[30. 40. 50.  0. 30. 20. inf inf inf]\n",
            "[inf inf inf 30.  0. inf 25. inf inf]\n",
            "[inf inf inf 20. inf  0. 20. inf 20.]\n",
            "[inf inf inf inf 25. 20.  0. 25. inf]\n",
            "[inf inf inf inf inf inf 25.  0. 20.]\n",
            "[40. inf inf inf inf 20. inf 20.  0.]\n"
          ],
          "name": "stdout"
        }
      ]
    },
    {
      "cell_type": "markdown",
      "metadata": {
        "id": "L7Hs6M7Lz0Uq",
        "colab_type": "text"
      },
      "source": [
        "Calculate Hedetniemi Matrix Sum"
      ]
    },
    {
      "cell_type": "code",
      "metadata": {
        "id": "aSAYnThPz5tu",
        "colab_type": "code",
        "outputId": "e2b98e19-7d18-4e6e-8cfc-43c7879e8787",
        "colab": {
          "base_uri": "https://localhost:8080/",
          "height": 208
        }
      },
      "source": [
        "from timeit import default_timer\n",
        "import numpy as np\n",
        "\n",
        "def hede_distance(matrix, n):\n",
        "  mtx_a_t = np.full((n,n), np.inf)\n",
        "  mtx_a_t_1 = matrix\n",
        "\n",
        "  p = True\n",
        "  while p:\n",
        "    for i in range(n):\n",
        "      a = mtx_a_t_1[i]\n",
        "      for j in range(n):\n",
        "        b = matrix[:,j]\n",
        "        mtx_a_t[i,j] = np.amin([a[k] + b[k] for k in range(n)])\n",
        "    \n",
        "    if np.array_equal(mtx_a_t, mtx_a_t_1):\n",
        "      p =  False\n",
        "    else:\n",
        "      mtx_a_t_1 = mtx_a_t   \n",
        "  \n",
        "  return mtx_a_t\n",
        "\n",
        "\n",
        "## print time costs\n",
        "start = default_timer()\n",
        "mtx_a_t = hede_distance(dist_mtx, n)\n",
        "stop = default_timer()\n",
        "print('Time: ', stop - start)\n",
        "\n",
        "## print shortest path matrix\n",
        "print(\"Shortest path matrix: \")\n",
        "for line in mtx_a_t:\n",
        "  print(line)"
      ],
      "execution_count": 75,
      "outputs": [
        {
          "output_type": "stream",
          "text": [
            "Time:  0.004618350998498499\n",
            "Shortest path matrix: \n",
            "[ 0. 30. 55. 30. 60. 50. 70. 60. 40.]\n",
            "[30.  0. 25. 40. 70. 60. 80. 90. 70.]\n",
            "[ 55.  25.   0.  50.  80.  70.  90. 115.  90.]\n",
            "[30. 40. 50.  0. 30. 20. 40. 60. 40.]\n",
            "[60. 70. 80. 30.  0. 45. 25. 50. 65.]\n",
            "[50. 60. 70. 20. 45.  0. 20. 40. 20.]\n",
            "[70. 80. 90. 40. 25. 20.  0. 25. 40.]\n",
            "[ 60.  90. 115.  60.  50.  40.  25.   0.  20.]\n",
            "[40. 70. 90. 40. 65. 20. 40. 20.  0.]\n"
          ],
          "name": "stdout"
        }
      ]
    },
    {
      "cell_type": "markdown",
      "metadata": {
        "id": "tuSQ6qKm16hk",
        "colab_type": "text"
      },
      "source": [
        "#### **Implementation 3: tensorflow** "
      ]
    },
    {
      "cell_type": "code",
      "metadata": {
        "id": "9KBEq17fCirZ",
        "colab_type": "code",
        "colab": {}
      },
      "source": [
        "!pip install -q tf-nightly"
      ],
      "execution_count": 0,
      "outputs": []
    },
    {
      "cell_type": "markdown",
      "metadata": {
        "id": "S1bYJIJY126k",
        "colab_type": "text"
      },
      "source": [
        "Construct distance matrix"
      ]
    },
    {
      "cell_type": "code",
      "metadata": {
        "id": "_nx019Eu12Hb",
        "colab_type": "code",
        "outputId": "9cac5b3f-051a-4c04-c57b-6d074e9b9617",
        "colab": {
          "base_uri": "https://localhost:8080/",
          "height": 225
        }
      },
      "source": [
        "from timeit import default_timer\n",
        "import tensorflow as tf\n",
        "import numpy as np\n",
        "\n",
        "def distance_matrix(graph):\n",
        "  ## convert graph\n",
        "  graph = tf.constant(graph, dtype=tf.float32)\n",
        "  length = tf.dtypes.cast(tf.size(graph)/3, tf.int32)\n",
        "  graph = tf.gather(graph, tf.nn.top_k(-graph[:,0], k=length).indices)\n",
        "\n",
        "  ## calculate number of nodes\n",
        "  n = tf.math.reduce_max(graph[:,1])\n",
        "  n = tf.dtypes.cast(n, tf.int32)\n",
        "\n",
        "  ########### calculate distance matrix ###########\n",
        "  m = tf.shape(graph)[0]                    ## number of rows in graph\n",
        "  k = tf.constant(0)                        ## index for row in graph\n",
        "  i = tf.constant(0, dtype=tf.float32)      ## index for row in distance matrix\n",
        "  row = tf.fill([1, n], np.inf)\n",
        "\n",
        "  while tf.math.less(k, m):\n",
        "    if tf.math.equal(tf.math.subtract(graph[k][0], 1), i):    \n",
        "      p = tf.one_hot([tf.math.subtract(graph[k][1], 1)], depth=n, \n",
        "                    on_value=graph[k][2], off_value=np.inf, axis=-1)    \n",
        "      row = tf.math.minimum(row, p, name=None)\n",
        "      k = tf.math.add(k, 1)\n",
        "    else:\n",
        "      if tf.math.equal(i, 0):\n",
        "        dist_mtx = row\n",
        "      else:\n",
        "        dist_mtx = tf.concat([dist_mtx, row], 0) \n",
        "      i = tf.math.add(i, 1)\n",
        "      row = tf.fill([1, n], np.inf)\n",
        "\n",
        "  dist_mtx = tf.concat([dist_mtx, row], 0)\n",
        "  row = tf.constant(tf.fill([1, n], np.inf))\n",
        "  while tf.math.less(tf.dtypes.cast(i, tf.int32), tf.math.subtract(n, 1)):  \n",
        "    dist_mtx = tf.concat([dist_mtx, row], 0)\n",
        "    i = tf.math.add(i, 1)\n",
        "\n",
        "  ## add transposed matrix\n",
        "  dist_mtx_tr = tf.transpose(dist_mtx)\n",
        "  dist_mtx = tf.math.minimum(dist_mtx_tr, dist_mtx, name=None)\n",
        "\n",
        "  ## set diagonal to 0\n",
        "  dist_mtx = tf.linalg.set_diag(dist_mtx, tf.zeros([n], tf.float32), name=None)\n",
        "\n",
        "  return dist_mtx, n\n",
        "\n",
        "\n",
        "## print time costs\n",
        "start = default_timer()\n",
        "dist_mtx, n = distance_matrix(data)\n",
        "stop = default_timer()\n",
        "print('Time: ', stop - start)\n",
        "\n",
        "## print distance matrix\n",
        "print(\"Distance matrix: \")\n",
        "print(dist_mtx)"
      ],
      "execution_count": 77,
      "outputs": [
        {
          "output_type": "stream",
          "text": [
            "Time:  0.019191178998880787\n",
            "Distance matrix: \n",
            "tf.Tensor(\n",
            "[[ 0. 30. inf 30. inf inf inf inf 40.]\n",
            " [30.  0. 25. 40. inf inf inf inf inf]\n",
            " [inf 25.  0. 50. inf inf inf inf inf]\n",
            " [30. 40. 50.  0. 30. 20. inf inf inf]\n",
            " [inf inf inf 30.  0. inf 25. inf inf]\n",
            " [inf inf inf 20. inf  0. 20. inf 20.]\n",
            " [inf inf inf inf 25. 20.  0. 25. inf]\n",
            " [inf inf inf inf inf inf 25.  0. 20.]\n",
            " [40. inf inf inf inf 20. inf 20.  0.]], shape=(9, 9), dtype=float32)\n"
          ],
          "name": "stdout"
        }
      ]
    },
    {
      "cell_type": "markdown",
      "metadata": {
        "id": "JhyQoVTzVH3o",
        "colab_type": "text"
      },
      "source": [
        "Calculate Hedetniemi Matrix Sum"
      ]
    },
    {
      "cell_type": "code",
      "metadata": {
        "id": "Byfkzs0bVLnU",
        "colab_type": "code",
        "colab": {
          "base_uri": "https://localhost:8080/",
          "height": 225
        },
        "outputId": "92d510e4-2ef8-498c-a291-fb36556fe39f"
      },
      "source": [
        "from timeit import default_timer\n",
        "import tensorflow as tf\n",
        "import numpy as np\n",
        "\n",
        "def hede_distance(matrix, n):\n",
        "  mtx_a_t_1 = matrix\n",
        "\n",
        "  p = True\n",
        "  while p:\n",
        "    for i in tf.range(n):\n",
        "      a = mtx_a_t_1[i]\n",
        "\n",
        "      for j in tf.range(n):\n",
        "        b = matrix[:,j]\n",
        "        c = tf.math.reduce_min(tf.math.add(a, b))\n",
        "        c = tf.fill([1], value=c)\n",
        "\n",
        "        if tf.math.equal(j, 0):\n",
        "          r = c\n",
        "        else:\n",
        "          r = tf.concat([r, c], 0)\n",
        "\n",
        "      r = tf.expand_dims(r, 0)\n",
        "      if tf.math.equal(i, 0):\n",
        "        mtx_a_t = r\n",
        "      else:\n",
        "        mtx_a_t = tf.concat([mtx_a_t, r], 0)\n",
        "\n",
        "    if tf.reduce_all(tf.math.equal(mtx_a_t_1, mtx_a_t)):\n",
        "      p = False\n",
        "    else:\n",
        "      mtx_a_t_1 = mtx_a_t \n",
        "\n",
        "  return mtx_a_t\n",
        "\n",
        "\n",
        "## print time costs\n",
        "start = default_timer()\n",
        "mtx_a_t = hede_distance(dist_mtx, n)\n",
        "stop = default_timer()\n",
        "print('Time: ', stop - start)\n",
        "\n",
        "## print shortest path matrix\n",
        "print(\"Shortest path matrix: \")\n",
        "print(mtx_a_t)"
      ],
      "execution_count": 78,
      "outputs": [
        {
          "output_type": "stream",
          "text": [
            "Time:  0.17822381400037557\n",
            "Shortest path matrix: \n",
            "tf.Tensor(\n",
            "[[  0.  30.  55.  30.  60.  50.  70.  60.  40.]\n",
            " [ 30.   0.  25.  40.  70.  60.  80.  90.  70.]\n",
            " [ 55.  25.   0.  50.  80.  70.  90. 110.  90.]\n",
            " [ 30.  40.  50.   0.  30.  20.  40.  60.  40.]\n",
            " [ 60.  70.  80.  30.   0.  45.  25.  50.  65.]\n",
            " [ 50.  60.  70.  20.  45.   0.  20.  40.  20.]\n",
            " [ 70.  80.  90.  40.  25.  20.   0.  25.  40.]\n",
            " [ 60.  90. 110.  60.  50.  40.  25.   0.  20.]\n",
            " [ 40.  70.  90.  40.  65.  20.  40.  20.   0.]], shape=(9, 9), dtype=float32)\n"
          ],
          "name": "stdout"
        }
      ]
    }
  ]
}
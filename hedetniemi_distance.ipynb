{
  "nbformat": 4,
  "nbformat_minor": 0,
  "metadata": {
    "colab": {
      "name": "hedetniemi_distance.ipynb",
      "provenance": [],
      "collapsed_sections": [],
      "toc_visible": true,
      "authorship_tag": "ABX9TyPldixMZDZvnq7J9dH95wtT",
      "include_colab_link": true
    },
    "kernelspec": {
      "name": "python3",
      "display_name": "Python 3"
    }
  },
  "cells": [
    {
      "cell_type": "markdown",
      "metadata": {
        "id": "view-in-github",
        "colab_type": "text"
      },
      "source": [
        "<a href=\"https://colab.research.google.com/github/linyuehzzz/hedetniemi_distance/blob/master/hedetniemi_distance.ipynb\" target=\"_parent\"><img src=\"https://colab.research.google.com/assets/colab-badge.svg\" alt=\"Open In Colab\"/></a>"
      ]
    },
    {
      "cell_type": "markdown",
      "metadata": {
        "id": "UrTaIelAvUyh",
        "colab_type": "text"
      },
      "source": [
        "##**Hedetniemi Matrix Sum**\n",
        "This code is used to implement the [Hedetniemi Matrix Sum](https://deepblue.lib.umich.edu/handle/2027.42/59763).  \n",
        "Yue Lin (lin.3326 at osu.edu)  \n",
        "Created: 5/6/2020"
      ]
    },
    {
      "cell_type": "markdown",
      "metadata": {
        "id": "ZZhcIrCevlc4",
        "colab_type": "text"
      },
      "source": [
        "#### **Generate graph data** "
      ]
    },
    {
      "cell_type": "code",
      "metadata": {
        "id": "EOMEWHYhvIEC",
        "colab_type": "code",
        "colab": {}
      },
      "source": [
        "## [node i, node j, distance between node i and j]\n",
        "## using data from example 1: San Francisco Bay Area Graph of Time-Distances (in minutes)\n",
        "data = [[1, 2, 30], [1, 4, 30], [1, 9, 40],\n",
        "        [2, 3, 25], [2, 4, 40], [3, 4, 50],\n",
        "        [4, 5, 30], [4, 6, 20], [5, 7, 25],\n",
        "        [6, 7, 20], [6, 9, 20], [7, 8, 25],\n",
        "        [8, 9,20]]"
      ],
      "execution_count": 0,
      "outputs": []
    },
    {
      "cell_type": "markdown",
      "metadata": {
        "id": "QAXZLqVpyg6q",
        "colab_type": "text"
      },
      "source": [
        "#### **Implementation 1: list** "
      ]
    },
    {
      "cell_type": "markdown",
      "metadata": {
        "id": "OQgQu_GVy_qH",
        "colab_type": "text"
      },
      "source": [
        "Construct distance matrix"
      ]
    },
    {
      "cell_type": "code",
      "metadata": {
        "id": "2dvWqQldyn_-",
        "colab_type": "code",
        "colab": {
          "base_uri": "https://localhost:8080/",
          "height": 208
        },
        "outputId": "0809c359-b90b-4448-d89d-08ebfd119066"
      },
      "source": [
        "from timeit import default_timer\n",
        "\n",
        "def distance_matrix(graph):\n",
        "  ## calculate number of nodes\n",
        "  n = max([g[1] for g in graph])\n",
        "\n",
        "  ## calculate distance matrix\n",
        "  INF = float('inf')\n",
        "  dist_mtx = [[INF] * n for i in range(n)]\n",
        "  for g in graph:\n",
        "    i = g[0] - 1\n",
        "    j = g[1] - 1\n",
        "    d = g[2]\n",
        "    dist_mtx[i][j] = d\n",
        "    dist_mtx[j][i] = d\n",
        "\n",
        "  ## set diagonal to 0\n",
        "  for i in range(n):\n",
        "    dist_mtx[i][i] = 0\n",
        " \n",
        "  return dist_mtx, n\n",
        "\n",
        "\n",
        "## print time costs\n",
        "start = default_timer()\n",
        "dist_mtx, n = distance_matrix(data)\n",
        "stop = default_timer()\n",
        "print('Time: ', stop - start)\n",
        "\n",
        "## print distance matrix\n",
        "print(\"Distance matrix: \")\n",
        "for line in dist_mtx:\n",
        "  print(line)"
      ],
      "execution_count": 23,
      "outputs": [
        {
          "output_type": "stream",
          "text": [
            "Time:  4.834100036532618e-05\n",
            "Distance matrix: \n",
            "[0, 30, inf, 30, inf, inf, inf, inf, 40]\n",
            "[30, 0, 25, 40, inf, inf, inf, inf, inf]\n",
            "[inf, 25, 0, 50, inf, inf, inf, inf, inf]\n",
            "[30, 40, 50, 0, 30, 20, inf, inf, inf]\n",
            "[inf, inf, inf, 30, 0, inf, 25, inf, inf]\n",
            "[inf, inf, inf, 20, inf, 0, 20, inf, 20]\n",
            "[inf, inf, inf, inf, 25, 20, 0, 25, inf]\n",
            "[inf, inf, inf, inf, inf, inf, 25, 0, 20]\n",
            "[40, inf, inf, inf, inf, 20, inf, 20, 0]\n"
          ],
          "name": "stdout"
        }
      ]
    },
    {
      "cell_type": "markdown",
      "metadata": {
        "id": "UuweDoyg142o",
        "colab_type": "text"
      },
      "source": [
        "Calculate Hedetniemi Matrix Sum"
      ]
    },
    {
      "cell_type": "code",
      "metadata": {
        "id": "OgttG9AF2KzL",
        "colab_type": "code",
        "colab": {
          "base_uri": "https://localhost:8080/",
          "height": 208
        },
        "outputId": "87e1c8d1-bcc2-49f2-82ec-89ab9b0be313"
      },
      "source": [
        "from timeit import default_timer\n",
        "\n",
        "def hede_distance(matrix, n):\n",
        "  mtx_a_t = [[INF] * n for i in range(n)]\n",
        "  mtx_a_t_1 = matrix\n",
        "\n",
        "  p = True\n",
        "  while p:\n",
        "    for i in range(n):\n",
        "      a = mtx_a_t_1[i]\n",
        "      for j in range(n):\n",
        "        b = [row[j] for row in matrix]\n",
        "        mtx_a_t[i][j] = min([a[k] + b[k] for k in range(n)])\n",
        "    \n",
        "    if mtx_a_t == mtx_a_t_1:\n",
        "      p =  False\n",
        "    else:\n",
        "      mtx_a_t_1 = mtx_a_t   \n",
        "  \n",
        "  return mtx_a_t\n",
        "\n",
        "\n",
        "## print time costs\n",
        "start = default_timer()\n",
        "mtx_a_t = hede_distance(dist_mtx, n)\n",
        "stop = default_timer()\n",
        "print('Time: ', stop - start)\n",
        "\n",
        "## print shortest path matrix\n",
        "print(\"Shortest path matrix: \")\n",
        "for line in mtx_a_t:\n",
        "  print(line)"
      ],
      "execution_count": 26,
      "outputs": [
        {
          "output_type": "stream",
          "text": [
            "Time:  0.0004263869996066205\n",
            "Shortest path matrix: \n",
            "[0, 30, 55, 30, 60, 50, 70, 60, 40]\n",
            "[30, 0, 25, 40, 70, 60, 80, 90, 70]\n",
            "[55, 25, 0, 50, 80, 70, 90, 115, 90]\n",
            "[30, 40, 50, 0, 30, 20, 40, 60, 40]\n",
            "[60, 70, 80, 30, 0, 45, 25, 50, 65]\n",
            "[50, 60, 70, 20, 45, 0, 20, 40, 20]\n",
            "[70, 80, 90, 40, 25, 20, 0, 25, 40]\n",
            "[60, 90, 115, 60, 50, 40, 25, 0, 20]\n",
            "[40, 70, 90, 40, 65, 20, 40, 20, 0]\n"
          ],
          "name": "stdout"
        }
      ]
    },
    {
      "cell_type": "markdown",
      "metadata": {
        "id": "Mhv-X5vRcHi8",
        "colab_type": "text"
      },
      "source": [
        "#### **Implementation 2: numpy** "
      ]
    },
    {
      "cell_type": "markdown",
      "metadata": {
        "id": "A2WTdjuJdIYg",
        "colab_type": "text"
      },
      "source": [
        "Construct distance matrix"
      ]
    },
    {
      "cell_type": "code",
      "metadata": {
        "id": "N2fssLdVc6NK",
        "colab_type": "code",
        "colab": {
          "base_uri": "https://localhost:8080/",
          "height": 208
        },
        "outputId": "39472e99-8e22-4762-d498-0c3555bc53ec"
      },
      "source": [
        "from timeit import default_timer\n",
        "import numpy as np\n",
        "\n",
        "def distance_matrix(graph):\n",
        "  ## calculate number of nodes\n",
        "  n = np.amax(graph[:,1])\n",
        "\n",
        "  ## calculate distance matrix\n",
        "  dist_mtx = np.full((n,n), np.inf)\n",
        "  for g in graph:\n",
        "    i = g[0] - 1\n",
        "    j = g[1] - 1\n",
        "    d = g[2]\n",
        "    dist_mtx[i,j] = d\n",
        "    dist_mtx[j,i] = d\n",
        "\n",
        "  ## set diagonal to 0\n",
        "  for i in range(n):\n",
        "    dist_mtx[i,i] = 0\n",
        " \n",
        "  return dist_mtx, n\n",
        "\n",
        "\n",
        "## print time costs\n",
        "start = default_timer()\n",
        "dist_mtx, n = distance_matrix(np.array(data))\n",
        "stop = default_timer()\n",
        "print('Time: ', stop - start)\n",
        "\n",
        "## print distance matrix\n",
        "print(\"Distance matrix: \")\n",
        "for line in dist_mtx:\n",
        "  print(line)"
      ],
      "execution_count": 33,
      "outputs": [
        {
          "output_type": "stream",
          "text": [
            "Time:  0.0010771590023068711\n",
            "Distance matrix: \n",
            "[ 0. 30. inf 30. inf inf inf inf 40.]\n",
            "[30.  0. 25. 40. inf inf inf inf inf]\n",
            "[inf 25.  0. 50. inf inf inf inf inf]\n",
            "[30. 40. 50.  0. 30. 20. inf inf inf]\n",
            "[inf inf inf 30.  0. inf 25. inf inf]\n",
            "[inf inf inf 20. inf  0. 20. inf 20.]\n",
            "[inf inf inf inf 25. 20.  0. 25. inf]\n",
            "[inf inf inf inf inf inf 25.  0. 20.]\n",
            "[40. inf inf inf inf 20. inf 20.  0.]\n"
          ],
          "name": "stdout"
        }
      ]
    },
    {
      "cell_type": "markdown",
      "metadata": {
        "id": "L7Hs6M7Lz0Uq",
        "colab_type": "text"
      },
      "source": [
        "Calculate Hedetniemi Matrix Sum"
      ]
    },
    {
      "cell_type": "code",
      "metadata": {
        "id": "aSAYnThPz5tu",
        "colab_type": "code",
        "colab": {
          "base_uri": "https://localhost:8080/",
          "height": 208
        },
        "outputId": "765585da-6798-479c-eaf9-16c034e00e30"
      },
      "source": [
        "from timeit import default_timer\n",
        "import numpy as np\n",
        "\n",
        "def hede_distance(matrix, n):\n",
        "  mtx_a_t = np.full((n,n), np.inf)\n",
        "  mtx_a_t_1 = matrix\n",
        "\n",
        "  p = True\n",
        "  while p:\n",
        "    for i in range(n):\n",
        "      a = mtx_a_t_1[i]\n",
        "      for j in range(n):\n",
        "        b = matrix[:,j]\n",
        "        mtx_a_t[i,j] = min([a[k] + b[k] for k in range(n)])\n",
        "    \n",
        "    if np.array_equal(mtx_a_t, mtx_a_t_1):\n",
        "      p =  False\n",
        "    else:\n",
        "      mtx_a_t_1 = mtx_a_t   \n",
        "  \n",
        "  return mtx_a_t\n",
        "\n",
        "\n",
        "## print time costs\n",
        "start = default_timer()\n",
        "mtx_a_t = hede_distance(dist_mtx, n)\n",
        "stop = default_timer()\n",
        "print('Time: ', stop - start)\n",
        "\n",
        "## print shortest path matrix\n",
        "print(\"Shortest path matrix: \")\n",
        "for line in mtx_a_t:\n",
        "  print(line)"
      ],
      "execution_count": 34,
      "outputs": [
        {
          "output_type": "stream",
          "text": [
            "Time:  0.0010203220008406788\n",
            "Shortest path matrix: \n",
            "[ 0. 30. 55. 30. 60. 50. 70. 60. 40.]\n",
            "[30.  0. 25. 40. 70. 60. 80. 90. 70.]\n",
            "[ 55.  25.   0.  50.  80.  70.  90. 115.  90.]\n",
            "[30. 40. 50.  0. 30. 20. 40. 60. 40.]\n",
            "[60. 70. 80. 30.  0. 45. 25. 50. 65.]\n",
            "[50. 60. 70. 20. 45.  0. 20. 40. 20.]\n",
            "[70. 80. 90. 40. 25. 20.  0. 25. 40.]\n",
            "[ 60.  90. 115.  60.  50.  40.  25.   0.  20.]\n",
            "[40. 70. 90. 40. 65. 20. 40. 20.  0.]\n"
          ],
          "name": "stdout"
        }
      ]
    },
    {
      "cell_type": "markdown",
      "metadata": {
        "id": "tuSQ6qKm16hk",
        "colab_type": "text"
      },
      "source": [
        "#### **Implementation 3: tensorflow** "
      ]
    },
    {
      "cell_type": "code",
      "metadata": {
        "id": "9KBEq17fCirZ",
        "colab_type": "code",
        "colab": {
          "base_uri": "https://localhost:8080/",
          "height": 69
        },
        "outputId": "260b4bcf-a258-433f-c299-a8c9747f0804"
      },
      "source": [
        "!pip install -q tf-nightly"
      ],
      "execution_count": 32,
      "outputs": [
        {
          "output_type": "stream",
          "text": [
            "\u001b[K     |████████████████████████████████| 520.9MB 29kB/s \n",
            "\u001b[K     |████████████████████████████████| 2.9MB 50.6MB/s \n",
            "\u001b[K     |████████████████████████████████| 460kB 40.5MB/s \n",
            "\u001b[?25h"
          ],
          "name": "stdout"
        }
      ]
    },
    {
      "cell_type": "markdown",
      "metadata": {
        "id": "S1bYJIJY126k",
        "colab_type": "text"
      },
      "source": [
        "Construct distance matrix"
      ]
    },
    {
      "cell_type": "code",
      "metadata": {
        "id": "_nx019Eu12Hb",
        "colab_type": "code",
        "colab": {
          "base_uri": "https://localhost:8080/",
          "height": 357
        },
        "outputId": "a6d14ad4-1cdd-42fd-a6ae-5214ba4523ed"
      },
      "source": [
        "from timeit import default_timer\n",
        "import tensorflow as tf\n",
        "import numpy as np\n",
        "\n",
        "def distance_matrix(graph):\n",
        "  ## calculate number of nodes\n",
        "  n = tf.reduce_max(graph[:,1])\n",
        "\n",
        "  ## calculate distance matrix\n",
        "  dist_mtx = tf.fill([n, n], np.inf)\n",
        "  dist_mtx = map_fn(lambda x: x[0] * x[1], graph)\n",
        "  for g in graph:\n",
        "    i = g[0] - 1\n",
        "    j = g[1] - 1\n",
        "    d = g[2]\n",
        "    dist_mtx[i,j] = d\n",
        "    dist_mtx[j,i] = d\n",
        "\n",
        "  ## set diagonal to 0\n",
        "  tf.matrix_set_diag(dist_mtx, tf.zeros(dist_mtx.shape[0:-1]), name=None)\n",
        " \n",
        "  return dist_mtx, n\n",
        "\n",
        "\n",
        "## print time costs\n",
        "start = default_timer()\n",
        "dist_mtx, n = distance_matrix(tf.constant(data))\n",
        "stop = default_timer()\n",
        "print('Time: ', stop - start)\n",
        "\n",
        "## print distance matrix\n",
        "print(\"Distance matrix: \")\n",
        "for line in dist_mtx:\n",
        "  print(line)"
      ],
      "execution_count": 35,
      "outputs": [
        {
          "output_type": "error",
          "ename": "TypeError",
          "evalue": "ignored",
          "traceback": [
            "\u001b[0;31m---------------------------------------------------------------------------\u001b[0m",
            "\u001b[0;31mTypeError\u001b[0m                                 Traceback (most recent call last)",
            "\u001b[0;32m<ipython-input-35-bba9a8c93ae1>\u001b[0m in \u001b[0;36m<module>\u001b[0;34m()\u001b[0m\n\u001b[1;32m     24\u001b[0m \u001b[0;31m## print time costs\u001b[0m\u001b[0;34m\u001b[0m\u001b[0;34m\u001b[0m\u001b[0;34m\u001b[0m\u001b[0m\n\u001b[1;32m     25\u001b[0m \u001b[0mstart\u001b[0m \u001b[0;34m=\u001b[0m \u001b[0mdefault_timer\u001b[0m\u001b[0;34m(\u001b[0m\u001b[0;34m)\u001b[0m\u001b[0;34m\u001b[0m\u001b[0;34m\u001b[0m\u001b[0m\n\u001b[0;32m---> 26\u001b[0;31m \u001b[0mdist_mtx\u001b[0m\u001b[0;34m,\u001b[0m \u001b[0mn\u001b[0m \u001b[0;34m=\u001b[0m \u001b[0mdistance_matrix\u001b[0m\u001b[0;34m(\u001b[0m\u001b[0mtf\u001b[0m\u001b[0;34m.\u001b[0m\u001b[0mconstant\u001b[0m\u001b[0;34m(\u001b[0m\u001b[0mdata\u001b[0m\u001b[0;34m)\u001b[0m\u001b[0;34m)\u001b[0m\u001b[0;34m\u001b[0m\u001b[0;34m\u001b[0m\u001b[0m\n\u001b[0m\u001b[1;32m     27\u001b[0m \u001b[0mstop\u001b[0m \u001b[0;34m=\u001b[0m \u001b[0mdefault_timer\u001b[0m\u001b[0;34m(\u001b[0m\u001b[0;34m)\u001b[0m\u001b[0;34m\u001b[0m\u001b[0;34m\u001b[0m\u001b[0m\n\u001b[1;32m     28\u001b[0m \u001b[0mprint\u001b[0m\u001b[0;34m(\u001b[0m\u001b[0;34m'Time: '\u001b[0m\u001b[0;34m,\u001b[0m \u001b[0mstop\u001b[0m \u001b[0;34m-\u001b[0m \u001b[0mstart\u001b[0m\u001b[0;34m)\u001b[0m\u001b[0;34m\u001b[0m\u001b[0;34m\u001b[0m\u001b[0m\n",
            "\u001b[0;32m<ipython-input-35-bba9a8c93ae1>\u001b[0m in \u001b[0;36mdistance_matrix\u001b[0;34m(graph)\u001b[0m\n\u001b[1;32m     13\u001b[0m     \u001b[0mj\u001b[0m \u001b[0;34m=\u001b[0m \u001b[0mg\u001b[0m\u001b[0;34m[\u001b[0m\u001b[0;36m1\u001b[0m\u001b[0;34m]\u001b[0m \u001b[0;34m-\u001b[0m \u001b[0;36m1\u001b[0m\u001b[0;34m\u001b[0m\u001b[0;34m\u001b[0m\u001b[0m\n\u001b[1;32m     14\u001b[0m     \u001b[0md\u001b[0m \u001b[0;34m=\u001b[0m \u001b[0mg\u001b[0m\u001b[0;34m[\u001b[0m\u001b[0;36m2\u001b[0m\u001b[0;34m]\u001b[0m\u001b[0;34m\u001b[0m\u001b[0;34m\u001b[0m\u001b[0m\n\u001b[0;32m---> 15\u001b[0;31m     \u001b[0mdist_mtx\u001b[0m\u001b[0;34m[\u001b[0m\u001b[0mi\u001b[0m\u001b[0;34m,\u001b[0m\u001b[0mj\u001b[0m\u001b[0;34m]\u001b[0m \u001b[0;34m=\u001b[0m \u001b[0md\u001b[0m\u001b[0;34m\u001b[0m\u001b[0;34m\u001b[0m\u001b[0m\n\u001b[0m\u001b[1;32m     16\u001b[0m     \u001b[0mdist_mtx\u001b[0m\u001b[0;34m[\u001b[0m\u001b[0mj\u001b[0m\u001b[0;34m,\u001b[0m\u001b[0mi\u001b[0m\u001b[0;34m]\u001b[0m \u001b[0;34m=\u001b[0m \u001b[0md\u001b[0m\u001b[0;34m\u001b[0m\u001b[0;34m\u001b[0m\u001b[0m\n\u001b[1;32m     17\u001b[0m \u001b[0;34m\u001b[0m\u001b[0m\n",
            "\u001b[0;31mTypeError\u001b[0m: 'tensorflow.python.framework.ops.EagerTensor' object does not support item assignment"
          ]
        }
      ]
    }
  ]
}
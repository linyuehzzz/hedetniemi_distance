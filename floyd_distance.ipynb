{
  "nbformat": 4,
  "nbformat_minor": 0,
  "metadata": {
    "colab": {
      "name": "floyd_distance.ipynb",
      "provenance": [],
      "collapsed_sections": [],
      "toc_visible": true,
      "authorship_tag": "ABX9TyOOQ3mztQs0Dwu53LlLdfOW",
      "include_colab_link": true
    },
    "kernelspec": {
      "name": "python3",
      "display_name": "Python 3"
    }
  },
  "cells": [
    {
      "cell_type": "markdown",
      "metadata": {
        "id": "view-in-github",
        "colab_type": "text"
      },
      "source": [
        "<a href=\"https://colab.research.google.com/github/linyuehzzz/hedetniemi_distance/blob/master/floyd_distance.ipynb\" target=\"_parent\"><img src=\"https://colab.research.google.com/assets/colab-badge.svg\" alt=\"Open In Colab\"/></a>"
      ]
    },
    {
      "cell_type": "markdown",
      "metadata": {
        "id": "lYkLiJ_s2Rgy",
        "colab_type": "text"
      },
      "source": [
        "##**Floyd–Warshall Algorithm**\n",
        "This code is used to implement the Floyd–Warshall Algorithm.  \n",
        "Yue Lin (lin.3326 at osu.edu)  \n",
        "Created: 5/30/2020"
      ]
    },
    {
      "cell_type": "code",
      "metadata": {
        "id": "mrEBs8GT13Nn",
        "colab_type": "code",
        "colab": {
          "base_uri": "https://localhost:8080/",
          "height": 124
        },
        "outputId": "a69df8f3-cca2-4b7a-f21d-1402bac0577e"
      },
      "source": [
        "from google.colab import drive\n",
        "drive.mount('/content/gdrive')"
      ],
      "execution_count": null,
      "outputs": [
        {
          "output_type": "stream",
          "text": [
            "Go to this URL in a browser: https://accounts.google.com/o/oauth2/auth?client_id=947318989803-6bn6qk8qdgf4n4g3pfee6491hc0brc4i.apps.googleusercontent.com&redirect_uri=urn%3aietf%3awg%3aoauth%3a2.0%3aoob&response_type=code&scope=email%20https%3a%2f%2fwww.googleapis.com%2fauth%2fdocs.test%20https%3a%2f%2fwww.googleapis.com%2fauth%2fdrive%20https%3a%2f%2fwww.googleapis.com%2fauth%2fdrive.photos.readonly%20https%3a%2f%2fwww.googleapis.com%2fauth%2fpeopleapi.readonly\n",
            "\n",
            "Enter your authorization code:\n",
            "··········\n",
            "Mounted at /content/gdrive\n"
          ],
          "name": "stdout"
        }
      ]
    },
    {
      "cell_type": "markdown",
      "metadata": {
        "id": "l6SSdWM1r2nW",
        "colab_type": "text"
      },
      "source": [
        "#### **Install packages** "
      ]
    },
    {
      "cell_type": "code",
      "metadata": {
        "id": "jBQ40Ljzr1qc",
        "colab_type": "code",
        "colab": {
          "base_uri": "https://localhost:8080/",
          "height": 35
        },
        "outputId": "b8f24783-55cf-461c-cce7-cc7bede4b413"
      },
      "source": [
        "!pip install timeout-decorator"
      ],
      "execution_count": null,
      "outputs": [
        {
          "output_type": "stream",
          "text": [
            "Requirement already satisfied: timeout-decorator in /usr/local/lib/python3.6/dist-packages (0.4.1)\n"
          ],
          "name": "stdout"
        }
      ]
    },
    {
      "cell_type": "markdown",
      "metadata": {
        "id": "k_nFRnGU3Tgj",
        "colab_type": "text"
      },
      "source": [
        "#### **Generate graph data** "
      ]
    },
    {
      "cell_type": "markdown",
      "metadata": {
        "id": "cd7DLvm5sG8R",
        "colab_type": "text"
      },
      "source": [
        "#####Data from the original article"
      ]
    },
    {
      "cell_type": "code",
      "metadata": {
        "id": "8AaSmxpL3Whg",
        "colab_type": "code",
        "colab": {}
      },
      "source": [
        "## [node i, node j, distance between node i and j]\n",
        "## using data from example 1: San Francisco Bay Area Graph of Time-Distances (in minutes)\n",
        "data = [[1, 2, 30], [1, 4, 30], [1, 9, 40],\n",
        "        [2, 3, 25], [2, 4, 40], [3, 4, 50],\n",
        "        [4, 5, 30], [4, 6, 20], [5, 7, 25],\n",
        "        [6, 7, 20], [6, 9, 20], [7, 8, 25],\n",
        "        [8, 9, 20]]\n",
        "nodes = 9"
      ],
      "execution_count": null,
      "outputs": []
    },
    {
      "cell_type": "markdown",
      "metadata": {
        "id": "jL3qH64V3aqG",
        "colab_type": "text"
      },
      "source": [
        "##### Create random graph"
      ]
    },
    {
      "cell_type": "code",
      "metadata": {
        "id": "oq1R9Q0T3Yzt",
        "colab_type": "code",
        "colab": {}
      },
      "source": [
        "%cd '/content/gdrive/My Drive/Colab Notebooks/hedetniemi_matrix_sum'\n",
        "import networkx as nx\n",
        "import random\n",
        "\n",
        "## Number of nodes (100/1,000/10,000/100,000/1,000,000)\n",
        "nodes = 10000\n",
        "print('Nodes: ', nodes)\n",
        "## Total degree\n",
        "degree = 3\n",
        "print('Degree: ', degree)\n",
        "\n",
        "G = nx.random_regular_graph(degree,nodes)\n",
        "for (u, v) in G.edges():\n",
        "    G.edges[u,v]['weight'] = random.uniform(1,100)\n",
        "nx.draw(G)\n",
        "nx.write_weighted_edgelist(G, 'graph_n' + str(nodes) + '_d' + str(degree) + '.txt')"
      ],
      "execution_count": null,
      "outputs": []
    },
    {
      "cell_type": "markdown",
      "metadata": {
        "id": "rPKDYkHyrkTI",
        "colab_type": "text"
      },
      "source": [
        "##### Read random graph"
      ]
    },
    {
      "cell_type": "code",
      "metadata": {
        "id": "2-eKwYUs3kvf",
        "colab_type": "code",
        "colab": {
          "base_uri": "https://localhost:8080/",
          "height": 87
        },
        "outputId": "a4741390-0e1e-4a7e-f6a1-28adba9e8bb8"
      },
      "source": [
        "%cd '/content/gdrive/My Drive/Colab Notebooks/hedetniemi_matrix_sum'\n",
        "\n",
        "## Number of nodes (100/1,000/10,000/100,000/1,000,000)\n",
        "nodes = 100\n",
        "print('Nodes: ', nodes)\n",
        "## Total degree\n",
        "degree = 3\n",
        "print('Degree: ', degree)\n",
        "\n",
        "data = []\n",
        "with open('graph_n' + str(nodes) + '_d' + str(degree) + '.txt', 'r') as f:\n",
        "  lines = f.read().splitlines()\n",
        "  for line in lines:\n",
        "    l = line.split()\n",
        "    item = [int(l[0]), int(l[1]), float(l[2])]\n",
        "    data.append(item)\n",
        "\n",
        "print(data[0])"
      ],
      "execution_count": null,
      "outputs": [
        {
          "output_type": "stream",
          "text": [
            "/content/gdrive/My Drive/Colab Notebooks/hedetniemi_matrix_sum\n",
            "Nodes:  100\n",
            "Degree:  3\n",
            "[77, 86, 89.39726376738572]\n"
          ],
          "name": "stdout"
        }
      ]
    },
    {
      "cell_type": "markdown",
      "metadata": {
        "id": "i-BLC_UG4Q5X",
        "colab_type": "text"
      },
      "source": [
        "#### **Implementation 1: list** "
      ]
    },
    {
      "cell_type": "markdown",
      "metadata": {
        "id": "KRCtneOH6qRx",
        "colab_type": "text"
      },
      "source": [
        "##### Construct distance matrix"
      ]
    },
    {
      "cell_type": "code",
      "metadata": {
        "id": "qAUmQVVG6p4F",
        "colab_type": "code",
        "colab": {
          "base_uri": "https://localhost:8080/",
          "height": 35
        },
        "outputId": "cd3589ce-8731-41f2-c020-74fd07cb9bf4"
      },
      "source": [
        "from timeit import default_timer\n",
        "import timeout_decorator\n",
        "\n",
        "@timeout_decorator.timeout(100)\n",
        "def distance_matrix(graph, n):\n",
        "  ## calculate distance matrix\n",
        "  INF = float('inf')\n",
        "  dist_mtx = [[INF] * n for i in range(n)]\n",
        "  for g in graph:\n",
        "    i = g[0] - 1\n",
        "    j = g[1] - 1\n",
        "    d = g[2]\n",
        "    dist_mtx[i][j] = d\n",
        "    dist_mtx[j][i] = d\n",
        "\n",
        "  ## set diagonal to 0\n",
        "  for i in range(n):\n",
        "    dist_mtx[i][i] = 0.0\n",
        " \n",
        "  return dist_mtx\n",
        "\n",
        "\n",
        "## print time costs\n",
        "start = default_timer()\n",
        "dist_mtx = distance_matrix(data, nodes)\n",
        "stop = default_timer()\n",
        "print('Time: ', stop - start)\n",
        "\n",
        "## print shortest path matrix\n",
        "with open('dist_mtx_list.txt', 'w') as fw:\n",
        "  fw.write('\\n'.join(['\\t'.join([str(round(cell,2)) for cell in row]) for row in dist_mtx]))"
      ],
      "execution_count": 35,
      "outputs": [
        {
          "output_type": "stream",
          "text": [
            "Time:  0.0004924960003336309\n"
          ],
          "name": "stdout"
        }
      ]
    },
    {
      "cell_type": "markdown",
      "metadata": {
        "id": "K4SZOKJF6y6g",
        "colab_type": "text"
      },
      "source": [
        "##### Calculate Floyd–Warshall distance"
      ]
    },
    {
      "cell_type": "code",
      "metadata": {
        "id": "Vtno4fPY4T_h",
        "colab_type": "code",
        "colab": {
          "base_uri": "https://localhost:8080/",
          "height": 35
        },
        "outputId": "aab75465-d058-4b40-e216-592f6a2b09ad"
      },
      "source": [
        "from timeit import default_timer\n",
        "import timeout_decorator\n",
        "\n",
        "@timeout_decorator.timeout(10)\n",
        "def floyd_distance(matrix, n):\n",
        "  for k in range(n):\n",
        "    for i in range(n):\n",
        "      for j in range(n):\n",
        "        if matrix[i][j] > matrix[i][k] + matrix[k][j]:\n",
        "          matrix[i][j] = matrix[i][k] + matrix[k][j]\n",
        "  \n",
        "  return matrix\n",
        "\n",
        "\n",
        "## print time costs\n",
        "try:\n",
        "  start = default_timer()\n",
        "  mtx_a_t = floyd_distance(dist_mtx, nodes)\n",
        "  stop = default_timer()\n",
        "  print('Time: ', stop - start)\n",
        "except:\n",
        "  print('Time: inf')\n",
        "\n",
        "## print shortest path matrix\n",
        "with open('floyd_mtx_list.txt', 'w') as fw:\n",
        "  fw.write('\\n'.join(['\\t'.join([str(round(cell,2)) for cell in row]) for row in mtx_a_t]))"
      ],
      "execution_count": 36,
      "outputs": [
        {
          "output_type": "stream",
          "text": [
            "Time:  0.12761181000041688\n"
          ],
          "name": "stdout"
        }
      ]
    },
    {
      "cell_type": "markdown",
      "metadata": {
        "id": "vcK30GhxAEf9",
        "colab_type": "text"
      },
      "source": [
        "#### **Implementation 2: numpy** "
      ]
    },
    {
      "cell_type": "markdown",
      "metadata": {
        "id": "2giDiSFcAJc-",
        "colab_type": "text"
      },
      "source": [
        "##### Construct distance matrix"
      ]
    },
    {
      "cell_type": "code",
      "metadata": {
        "id": "pw0xn1yVALn6",
        "colab_type": "code",
        "colab": {
          "base_uri": "https://localhost:8080/",
          "height": 35
        },
        "outputId": "36b966c9-98e2-4821-f45d-3eb810662ab6"
      },
      "source": [
        "from timeit import default_timer\n",
        "import numpy as np\n",
        "import timeout_decorator\n",
        "\n",
        "@timeout_decorator.timeout(100)\n",
        "def distance_matrix(graph, n):\n",
        "  ## calculate distance matrix\n",
        "  dist_mtx = np.full((n,n), np.inf)\n",
        "  for g in graph:\n",
        "    i = int(g[0]) - 1\n",
        "    j = int(g[1]) - 1\n",
        "    d = g[2]\n",
        "    dist_mtx[i,j] = d\n",
        "    dist_mtx[j,i] = d\n",
        "\n",
        "  ## set diagonal to 0\n",
        "  np.fill_diagonal(dist_mtx, 0)\n",
        " \n",
        "  return dist_mtx\n",
        "\n",
        "\n",
        "## print time costs\n",
        "start = default_timer()\n",
        "dist_mtx = distance_matrix(np.array(data), nodes)\n",
        "stop = default_timer()\n",
        "print('Time: ', stop - start)\n",
        "\n",
        "## print distance matrix\n",
        "# print(\"Distance matrix: \")\n",
        "# for line in dist_mtx:\n",
        "#   print(line)"
      ],
      "execution_count": 39,
      "outputs": [
        {
          "output_type": "stream",
          "text": [
            "Time:  0.0006069540004318696\n"
          ],
          "name": "stdout"
        }
      ]
    },
    {
      "cell_type": "markdown",
      "metadata": {
        "id": "7ocW6mfeAQIK",
        "colab_type": "text"
      },
      "source": [
        "##### Calculate Floyd–Warshall distance"
      ]
    },
    {
      "cell_type": "code",
      "metadata": {
        "id": "_hiZjQyHASu-",
        "colab_type": "code",
        "colab": {
          "base_uri": "https://localhost:8080/",
          "height": 35
        },
        "outputId": "e6c90ed1-263e-4474-a794-32682de3408f"
      },
      "source": [
        "from timeit import default_timer\n",
        "import numpy as np\n",
        "import timeout_decorator\n",
        "\n",
        "@timeout_decorator.timeout(100)\n",
        "def floyd_distance(matrix, n):\n",
        "  for k in range(n):\n",
        "    for i in range(n):\n",
        "      for j in range(n):\n",
        "        if matrix[i,j] > matrix[i,k] + matrix[k,j]:\n",
        "          matrix[i,j] = matrix[i,k] + matrix[k,j]\n",
        "  \n",
        "  return matrix\n",
        "\n",
        "\n",
        "## print time costs\n",
        "start = default_timer()\n",
        "mtx_a_t = floyd_distance(dist_mtx, nodes)\n",
        "stop = default_timer()\n",
        "print('Time: ', stop - start)"
      ],
      "execution_count": 40,
      "outputs": [
        {
          "output_type": "stream",
          "text": [
            "Time:  0.7044710130003295\n"
          ],
          "name": "stdout"
        }
      ]
    },
    {
      "cell_type": "markdown",
      "metadata": {
        "id": "7qoEoprQEruO",
        "colab_type": "text"
      },
      "source": [
        "#### **Implementation 3: numba (njit)** "
      ]
    },
    {
      "cell_type": "markdown",
      "metadata": {
        "id": "tJ7Q1VZgEv2x",
        "colab_type": "text"
      },
      "source": [
        "##### Construct distance matrix"
      ]
    },
    {
      "cell_type": "code",
      "metadata": {
        "id": "WPYZhx-AE5YE",
        "colab_type": "code",
        "colab": {
          "base_uri": "https://localhost:8080/",
          "height": 35
        },
        "outputId": "befa4e89-90f5-4bb6-b124-c1f06f09d87c"
      },
      "source": [
        "from timeit import default_timer\n",
        "import numpy as np\n",
        "import numba\n",
        "import timeout_decorator\n",
        "\n",
        "@timeout_decorator.timeout(10)\n",
        "@numba.njit\n",
        "def distance_matrix(graph, n):\n",
        "  ## calculate distance matrix\n",
        "  dist_mtx = np.full((n,n), np.inf)\n",
        "  for g in numba.prange(graph.shape[0]):\n",
        "    i = int(graph[g,0]) - 1\n",
        "    j = int(graph[g,1]) - 1\n",
        "    d = graph[g,2]\n",
        "    dist_mtx[i,j] = d\n",
        "    dist_mtx[j,i] = d\n",
        "\n",
        "  ## set diagonal to 0\n",
        "  np.fill_diagonal(dist_mtx, 0)\n",
        " \n",
        "  return dist_mtx\n",
        "\n",
        "\n",
        "## print time costs\n",
        "try:\n",
        "  start = default_timer()\n",
        "  dist_mtx = distance_matrix(np.array(data), nodes)\n",
        "  stop = default_timer()\n",
        "  print('Time: ', stop - start)\n",
        "except:\n",
        "  print('Time: inf')\n",
        "\n",
        "## print shortest path matrix\n",
        "with open('dist_mtx_nb.txt', 'w') as fw:\n",
        "  fw.write('\\n'.join(['\\t'.join([str(round(cell,2)) for cell in row]) for row in dist_mtx]))"
      ],
      "execution_count": 41,
      "outputs": [
        {
          "output_type": "stream",
          "text": [
            "Time:  0.24978987099984806\n"
          ],
          "name": "stdout"
        }
      ]
    },
    {
      "cell_type": "markdown",
      "metadata": {
        "id": "NH74SE4VE-6Q",
        "colab_type": "text"
      },
      "source": [
        "##### Calculate Floyd–Warshall distance"
      ]
    },
    {
      "cell_type": "code",
      "metadata": {
        "id": "9QR7yeZiE_h-",
        "colab_type": "code",
        "colab": {
          "base_uri": "https://localhost:8080/",
          "height": 35
        },
        "outputId": "031b7f84-d1af-4645-bb54-8142eb3d74ae"
      },
      "source": [
        "from timeit import default_timer\n",
        "import numpy as np\n",
        "import numba\n",
        "import timeout_decorator\n",
        "\n",
        "@numba.njit\n",
        "def all_pair_floyd(matrix, k, i, n):\n",
        "  for j in numba.prange(n):\n",
        "    if matrix[i,j] > matrix[i,k] + matrix[k,j]:\n",
        "      matrix[i,j] = matrix[i,k] + matrix[k,j]\n",
        "\n",
        "\n",
        "@timeout_decorator.timeout(100)\n",
        "def floyd_distance(matrix, n):\n",
        "  for k in range(n):\n",
        "    for i in range(n):\n",
        "      for j in range(n):\n",
        "        if matrix[i,j] > matrix[i,k] + matrix[k,j]:\n",
        "          matrix[i,j] = matrix[i,k] + matrix[k,j]\n",
        "      # all_pair_floyd(matrix, k, i, n)\n",
        "  \n",
        "  return matrix\n",
        "\n",
        "\n",
        "## print time costs\n",
        "try:\n",
        "  start = default_timer()\n",
        "  mtx_a_t = floyd_distance(dist_mtx, nodes)\n",
        "  stop = default_timer()\n",
        "  print('Time: ', stop - start)\n",
        "except:\n",
        "  print('Time: inf')\n",
        "  raise\n",
        "\n",
        "## print shortest path matrix\n",
        "with open('floyd_mtx_nb.txt', 'w') as fw:\n",
        "  fw.write('\\n'.join(['\\t'.join([str(round(cell,2)) for cell in row]) for row in mtx_a_t]))"
      ],
      "execution_count": 42,
      "outputs": [
        {
          "output_type": "stream",
          "text": [
            "Time:  0.6899059490006039\n"
          ],
          "name": "stdout"
        }
      ]
    },
    {
      "cell_type": "code",
      "metadata": {
        "id": "e1xml2p0WunT",
        "colab_type": "code",
        "colab": {}
      },
      "source": [
        "!diff dist_mtx_list.txt dist_mtx_nb.txt"
      ],
      "execution_count": 31,
      "outputs": []
    }
  ]
}